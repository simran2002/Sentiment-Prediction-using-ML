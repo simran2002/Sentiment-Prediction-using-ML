{
 "cells": [
  {
   "cell_type": "code",
   "execution_count": 1,
   "id": "50a0114c",
   "metadata": {
    "_cell_guid": "b1076dfc-b9ad-4769-8c92-a6c4dae69d19",
    "_uuid": "8f2839f25d086af736a60e9eeb907d3b93b6e0e5",
    "execution": {
     "iopub.execute_input": "2023-08-13T17:35:26.126576Z",
     "iopub.status.busy": "2023-08-13T17:35:26.125889Z",
     "iopub.status.idle": "2023-08-13T17:35:26.141368Z",
     "shell.execute_reply": "2023-08-13T17:35:26.140020Z"
    },
    "papermill": {
     "duration": 0.051025,
     "end_time": "2023-08-13T17:35:26.144069",
     "exception": false,
     "start_time": "2023-08-13T17:35:26.093044",
     "status": "completed"
    },
    "tags": []
   },
   "outputs": [
    {
     "name": "stdout",
     "output_type": "stream",
     "text": [
      "/kaggle/input/sentiment-prediction-on-movie-reviews/movies.csv\n",
      "/kaggle/input/sentiment-prediction-on-movie-reviews/sample.csv\n",
      "/kaggle/input/sentiment-prediction-on-movie-reviews/train.csv\n",
      "/kaggle/input/sentiment-prediction-on-movie-reviews/test.csv\n"
     ]
    }
   ],
   "source": [
    "# This Python 3 environment comes with many helpful analytics libraries installed\n",
    "# It is defined by the kaggle/python Docker image: https://github.com/kaggle/docker-python\n",
    "# For example, here's several helpful packages to load\n",
    "\n",
    "import numpy as np # linear algebra\n",
    "import pandas as pd # data processing, CSV file I/O (e.g. pd.read_csv)\n",
    "\n",
    "# Input data files are available in the read-only \"../input/\" directory\n",
    "# For example, running this (by clicking run or pressing Shift+Enter) will list all files under the input directory\n",
    "\n",
    "import os\n",
    "for dirname, _, filenames in os.walk('/kaggle/input'):\n",
    "    for filename in filenames:\n",
    "        print(os.path.join(dirname, filename))\n",
    "\n",
    "# You can write up to 20GB to the current directory (/kaggle/working/) that gets preserved as output when you create a version using \"Save & Run All\" \n",
    "# You can also write temporary files to /kaggle/temp/, but they won't be saved outside of the current session"
   ]
  },
  {
   "cell_type": "code",
   "execution_count": 2,
   "id": "b754c577",
   "metadata": {
    "execution": {
     "iopub.execute_input": "2023-08-13T17:35:26.209738Z",
     "iopub.status.busy": "2023-08-13T17:35:26.208622Z",
     "iopub.status.idle": "2023-08-13T17:35:26.213633Z",
     "shell.execute_reply": "2023-08-13T17:35:26.212529Z"
    },
    "papermill": {
     "duration": 0.040976,
     "end_time": "2023-08-13T17:35:26.216369",
     "exception": false,
     "start_time": "2023-08-13T17:35:26.175393",
     "status": "completed"
    },
    "tags": []
   },
   "outputs": [],
   "source": [
    "# ignore the warnings which occur when we apply a certain model on dataset\n",
    "import warnings\n",
    "warnings.simplefilter(action='ignore')"
   ]
  },
  {
   "cell_type": "code",
   "execution_count": 3,
   "id": "04ac6225",
   "metadata": {
    "execution": {
     "iopub.execute_input": "2023-08-13T17:35:26.280213Z",
     "iopub.status.busy": "2023-08-13T17:35:26.279736Z",
     "iopub.status.idle": "2023-08-13T17:35:28.624321Z",
     "shell.execute_reply": "2023-08-13T17:35:28.623173Z"
    },
    "papermill": {
     "duration": 2.379488,
     "end_time": "2023-08-13T17:35:28.627584",
     "exception": false,
     "start_time": "2023-08-13T17:35:26.248096",
     "status": "completed"
    },
    "tags": []
   },
   "outputs": [],
   "source": [
    "# import all the necessary libraries\n",
    "import numpy as np\n",
    "from sklearn.model_selection import train_test_split\n",
    "import matplotlib.pyplot as plt   # matplotlib for plotting the charts\n",
    "import seaborn as sns             # seaborn for visualization of the dataset and its columns\n",
    "from sklearn.pipeline import Pipeline, FeatureUnion\n",
    "from sklearn.impute import SimpleImputer\n",
    "from sklearn.naive_bayes import MultinomialNB\n",
    "from sklearn.preprocessing import StandardScaler, OneHotEncoder, MinMaxScaler\n",
    "from sklearn.compose import ColumnTransformer\n",
    "from sklearn.feature_extraction.text import TfidfVectorizer\n",
    "from sklearn.linear_model import LogisticRegression\n",
    "from sklearn.svm import LinearSVC\n",
    "from sklearn.tree import DecisionTreeClassifier\n",
    "from sklearn.model_selection import GridSearchCV\n",
    "from sklearn.metrics import accuracy_score, classification_report,f1_score"
   ]
  },
  {
   "cell_type": "markdown",
   "id": "40d2b947",
   "metadata": {
    "papermill": {
     "duration": 0.031673,
     "end_time": "2023-08-13T17:35:28.692075",
     "exception": false,
     "start_time": "2023-08-13T17:35:28.660402",
     "status": "completed"
    },
    "tags": []
   },
   "source": [
    "# **DATA LOADING**"
   ]
  },
  {
   "cell_type": "code",
   "execution_count": 4,
   "id": "7ebd6d36",
   "metadata": {
    "execution": {
     "iopub.execute_input": "2023-08-13T17:35:28.759349Z",
     "iopub.status.busy": "2023-08-13T17:35:28.758908Z",
     "iopub.status.idle": "2023-08-13T17:35:31.026744Z",
     "shell.execute_reply": "2023-08-13T17:35:31.025144Z"
    },
    "papermill": {
     "duration": 2.305027,
     "end_time": "2023-08-13T17:35:31.029845",
     "exception": false,
     "start_time": "2023-08-13T17:35:28.724818",
     "status": "completed"
    },
    "tags": []
   },
   "outputs": [],
   "source": [
    "# reading all the necessary files,the Movies Dataset, the Train Dataset, the Test Dataset \n",
    "# containing all the necessary Details\n",
    "\n",
    "movies=pd.read_csv('/kaggle/input/sentiment-prediction-on-movie-reviews/movies.csv')\n",
    "train=pd.read_csv('/kaggle/input/sentiment-prediction-on-movie-reviews/train.csv')\n",
    "test=pd.read_csv('/kaggle/input/sentiment-prediction-on-movie-reviews/test.csv')\n",
    "sample=pd.read_csv('/kaggle/input/sentiment-prediction-on-movie-reviews/sample.csv')"
   ]
  },
  {
   "cell_type": "markdown",
   "id": "0522e012",
   "metadata": {
    "papermill": {
     "duration": 0.031517,
     "end_time": "2023-08-13T17:35:31.094509",
     "exception": false,
     "start_time": "2023-08-13T17:35:31.062992",
     "status": "completed"
    },
    "tags": []
   },
   "source": [
    "**INFORMATION GATHERING for each dataset**"
   ]
  },
  {
   "cell_type": "code",
   "execution_count": 5,
   "id": "b547d4a5",
   "metadata": {
    "execution": {
     "iopub.execute_input": "2023-08-13T17:35:31.156163Z",
     "iopub.status.busy": "2023-08-13T17:35:31.155731Z",
     "iopub.status.idle": "2023-08-13T17:35:31.695463Z",
     "shell.execute_reply": "2023-08-13T17:35:31.693785Z"
    },
    "papermill": {
     "duration": 0.573839,
     "end_time": "2023-08-13T17:35:31.698685",
     "exception": false,
     "start_time": "2023-08-13T17:35:31.124846",
     "status": "completed"
    },
    "tags": []
   },
   "outputs": [
    {
     "name": "stdout",
     "output_type": "stream",
     "text": [
      "<class 'pandas.core.frame.DataFrame'>\n",
      "RangeIndex: 143258 entries, 0 to 143257\n",
      "Data columns (total 14 columns):\n",
      " #   Column                Non-Null Count   Dtype  \n",
      "---  ------                --------------   -----  \n",
      " 0   movieid               143258 non-null  object \n",
      " 1   title                 143258 non-null  object \n",
      " 2   audienceScore         73248 non-null   float64\n",
      " 3   rating                13991 non-null   object \n",
      " 4   ratingContents        13991 non-null   object \n",
      " 5   releaseDateTheaters   30773 non-null   object \n",
      " 6   releaseDateStreaming  79420 non-null   object \n",
      " 7   runtimeMinutes        129431 non-null  float64\n",
      " 8   genre                 132175 non-null  object \n",
      " 9   originalLanguage      129400 non-null  object \n",
      " 10  director              143258 non-null  object \n",
      " 11  boxOffice             14743 non-null   object \n",
      " 12  distributor           23005 non-null   object \n",
      " 13  soundType             15917 non-null   object \n",
      "dtypes: float64(2), object(12)\n",
      "memory usage: 15.3+ MB\n"
     ]
    }
   ],
   "source": [
    "# checking for no. of rows and columns in movies dataset\n",
    "movies.info()"
   ]
  },
  {
   "cell_type": "code",
   "execution_count": 6,
   "id": "28805528",
   "metadata": {
    "execution": {
     "iopub.execute_input": "2023-08-13T17:35:31.762161Z",
     "iopub.status.busy": "2023-08-13T17:35:31.761751Z",
     "iopub.status.idle": "2023-08-13T17:35:31.989608Z",
     "shell.execute_reply": "2023-08-13T17:35:31.988380Z"
    },
    "papermill": {
     "duration": 0.262729,
     "end_time": "2023-08-13T17:35:31.992203",
     "exception": false,
     "start_time": "2023-08-13T17:35:31.729474",
     "status": "completed"
    },
    "tags": []
   },
   "outputs": [
    {
     "name": "stdout",
     "output_type": "stream",
     "text": [
      "<class 'pandas.core.frame.DataFrame'>\n",
      "RangeIndex: 162758 entries, 0 to 162757\n",
      "Data columns (total 5 columns):\n",
      " #   Column              Non-Null Count   Dtype \n",
      "---  ------              --------------   ----- \n",
      " 0   movieid             162758 non-null  object\n",
      " 1   reviewerName        162758 non-null  object\n",
      " 2   isFrequentReviewer  162758 non-null  bool  \n",
      " 3   reviewText          156311 non-null  object\n",
      " 4   sentiment           162758 non-null  object\n",
      "dtypes: bool(1), object(4)\n",
      "memory usage: 5.1+ MB\n"
     ]
    }
   ],
   "source": [
    "# checking for no. of rows and columns in train dataset\n",
    "train.info()"
   ]
  },
  {
   "cell_type": "code",
   "execution_count": 7,
   "id": "77b076f1",
   "metadata": {
    "execution": {
     "iopub.execute_input": "2023-08-13T17:35:32.055520Z",
     "iopub.status.busy": "2023-08-13T17:35:32.054671Z",
     "iopub.status.idle": "2023-08-13T17:35:32.122419Z",
     "shell.execute_reply": "2023-08-13T17:35:32.121604Z"
    },
    "papermill": {
     "duration": 0.102705,
     "end_time": "2023-08-13T17:35:32.124862",
     "exception": false,
     "start_time": "2023-08-13T17:35:32.022157",
     "status": "completed"
    },
    "tags": []
   },
   "outputs": [
    {
     "name": "stdout",
     "output_type": "stream",
     "text": [
      "<class 'pandas.core.frame.DataFrame'>\n",
      "RangeIndex: 55315 entries, 0 to 55314\n",
      "Data columns (total 4 columns):\n",
      " #   Column        Non-Null Count  Dtype \n",
      "---  ------        --------------  ----- \n",
      " 0   movieid       55315 non-null  object\n",
      " 1   reviewerName  55315 non-null  object\n",
      " 2   isTopCritic   55315 non-null  bool  \n",
      " 3   reviewText    52805 non-null  object\n",
      "dtypes: bool(1), object(3)\n",
      "memory usage: 1.3+ MB\n"
     ]
    }
   ],
   "source": [
    "# checking for no. of rows and columns in train dataset\n",
    "test.info()"
   ]
  },
  {
   "cell_type": "markdown",
   "id": "ec2d01df",
   "metadata": {
    "papermill": {
     "duration": 0.030709,
     "end_time": "2023-08-13T17:35:32.185789",
     "exception": false,
     "start_time": "2023-08-13T17:35:32.155080",
     "status": "completed"
    },
    "tags": []
   },
   "source": [
    "**NULL VALUES SUM CHECK**"
   ]
  },
  {
   "cell_type": "code",
   "execution_count": 8,
   "id": "e1bdd708",
   "metadata": {
    "execution": {
     "iopub.execute_input": "2023-08-13T17:35:32.247226Z",
     "iopub.status.busy": "2023-08-13T17:35:32.246809Z",
     "iopub.status.idle": "2023-08-13T17:35:32.747792Z",
     "shell.execute_reply": "2023-08-13T17:35:32.746506Z"
    },
    "papermill": {
     "duration": 0.535099,
     "end_time": "2023-08-13T17:35:32.750336",
     "exception": false,
     "start_time": "2023-08-13T17:35:32.215237",
     "status": "completed"
    },
    "tags": []
   },
   "outputs": [
    {
     "data": {
      "text/plain": [
       "movieid                      0\n",
       "title                        0\n",
       "audienceScore            70010\n",
       "rating                  129267\n",
       "ratingContents          129267\n",
       "releaseDateTheaters     112485\n",
       "releaseDateStreaming     63838\n",
       "runtimeMinutes           13827\n",
       "genre                    11083\n",
       "originalLanguage         13858\n",
       "director                     0\n",
       "boxOffice               128515\n",
       "distributor             120253\n",
       "soundType               127341\n",
       "dtype: int64"
      ]
     },
     "execution_count": 8,
     "metadata": {},
     "output_type": "execute_result"
    }
   ],
   "source": [
    "# checking for column wise sum of null values in movies dataset\n",
    "movies.isnull().sum()"
   ]
  },
  {
   "cell_type": "code",
   "execution_count": 9,
   "id": "36616cfc",
   "metadata": {
    "execution": {
     "iopub.execute_input": "2023-08-13T17:35:32.814166Z",
     "iopub.status.busy": "2023-08-13T17:35:32.813754Z",
     "iopub.status.idle": "2023-08-13T17:35:33.032295Z",
     "shell.execute_reply": "2023-08-13T17:35:33.031024Z"
    },
    "papermill": {
     "duration": 0.252648,
     "end_time": "2023-08-13T17:35:33.034806",
     "exception": false,
     "start_time": "2023-08-13T17:35:32.782158",
     "status": "completed"
    },
    "tags": []
   },
   "outputs": [
    {
     "data": {
      "text/plain": [
       "movieid                  0\n",
       "reviewerName             0\n",
       "isFrequentReviewer       0\n",
       "reviewText            6447\n",
       "sentiment                0\n",
       "dtype: int64"
      ]
     },
     "execution_count": 9,
     "metadata": {},
     "output_type": "execute_result"
    }
   ],
   "source": [
    "# checking for column wise sum of null values in train dataset\n",
    "train.isnull().sum()"
   ]
  },
  {
   "cell_type": "code",
   "execution_count": 10,
   "id": "76b50835",
   "metadata": {
    "execution": {
     "iopub.execute_input": "2023-08-13T17:35:33.098214Z",
     "iopub.status.busy": "2023-08-13T17:35:33.097794Z",
     "iopub.status.idle": "2023-08-13T17:35:33.161306Z",
     "shell.execute_reply": "2023-08-13T17:35:33.160185Z"
    },
    "papermill": {
     "duration": 0.097504,
     "end_time": "2023-08-13T17:35:33.163701",
     "exception": false,
     "start_time": "2023-08-13T17:35:33.066197",
     "status": "completed"
    },
    "tags": []
   },
   "outputs": [
    {
     "data": {
      "text/plain": [
       "movieid            0\n",
       "reviewerName       0\n",
       "isTopCritic        0\n",
       "reviewText      2510\n",
       "dtype: int64"
      ]
     },
     "execution_count": 10,
     "metadata": {},
     "output_type": "execute_result"
    }
   ],
   "source": [
    "# checking for column wise sum of null values in test dataset\n",
    "test.isnull().sum()"
   ]
  },
  {
   "cell_type": "code",
   "execution_count": 11,
   "id": "364939da",
   "metadata": {
    "execution": {
     "iopub.execute_input": "2023-08-13T17:35:33.229496Z",
     "iopub.status.busy": "2023-08-13T17:35:33.228687Z",
     "iopub.status.idle": "2023-08-13T17:35:33.235597Z",
     "shell.execute_reply": "2023-08-13T17:35:33.234448Z"
    },
    "papermill": {
     "duration": 0.043741,
     "end_time": "2023-08-13T17:35:33.238242",
     "exception": false,
     "start_time": "2023-08-13T17:35:33.194501",
     "status": "completed"
    },
    "tags": []
   },
   "outputs": [
    {
     "name": "stdout",
     "output_type": "stream",
     "text": [
      "Shape of Movies Dataset:  (143258, 14)\n",
      "Shape of Train Dataset:  (162758, 5)\n",
      "Shape of Test Dataset:  (55315, 4)\n"
     ]
    }
   ],
   "source": [
    "print('Shape of Movies Dataset: ',movies.shape) #shape of movies dataset (rows, columns)\n",
    "print('Shape of Train Dataset: ',train.shape)   #shape of movies dataset (rows, columns)\n",
    "print('Shape of Test Dataset: ',test.shape)     #shape of movies dataset (rows, columns)"
   ]
  },
  {
   "cell_type": "markdown",
   "id": "71f51595",
   "metadata": {
    "papermill": {
     "duration": 0.029689,
     "end_time": "2023-08-13T17:35:33.299918",
     "exception": false,
     "start_time": "2023-08-13T17:35:33.270229",
     "status": "completed"
    },
    "tags": []
   },
   "source": [
    "**DATA CLEANING - REMOVING DUPLICATES**"
   ]
  },
  {
   "cell_type": "code",
   "execution_count": 12,
   "id": "912139fa",
   "metadata": {
    "execution": {
     "iopub.execute_input": "2023-08-13T17:35:33.363017Z",
     "iopub.status.busy": "2023-08-13T17:35:33.362589Z",
     "iopub.status.idle": "2023-08-13T17:35:33.418596Z",
     "shell.execute_reply": "2023-08-13T17:35:33.417494Z"
    },
    "papermill": {
     "duration": 0.091418,
     "end_time": "2023-08-13T17:35:33.421469",
     "exception": false,
     "start_time": "2023-08-13T17:35:33.330051",
     "status": "completed"
    },
    "tags": []
   },
   "outputs": [],
   "source": [
    "# drop the duplicate values of movies dataset before merging\n",
    "# use subset 'movieId' to define a particular column to work upon\n",
    "# keep first will keep the first value and remove the remaining duplicates\n",
    "\n",
    "unique_movies = movies.drop_duplicates(subset='movieid', keep='first')"
   ]
  },
  {
   "cell_type": "markdown",
   "id": "78d4b79f",
   "metadata": {
    "papermill": {
     "duration": 0.03289,
     "end_time": "2023-08-13T17:35:33.485775",
     "exception": false,
     "start_time": "2023-08-13T17:35:33.452885",
     "status": "completed"
    },
    "tags": []
   },
   "source": [
    "**MERGING THE DATASETS TO CREATE NEW ONES**"
   ]
  },
  {
   "cell_type": "code",
   "execution_count": 13,
   "id": "4c120c52",
   "metadata": {
    "execution": {
     "iopub.execute_input": "2023-08-13T17:35:33.552414Z",
     "iopub.status.busy": "2023-08-13T17:35:33.551820Z",
     "iopub.status.idle": "2023-08-13T17:35:33.843718Z",
     "shell.execute_reply": "2023-08-13T17:35:33.842559Z"
    },
    "papermill": {
     "duration": 0.328045,
     "end_time": "2023-08-13T17:35:33.846678",
     "exception": false,
     "start_time": "2023-08-13T17:35:33.518633",
     "status": "completed"
    },
    "tags": []
   },
   "outputs": [],
   "source": [
    "# merge the train and new movies dataset such that train data remains intact and no new rows are added\n",
    "# left join\n",
    "# common key for merging is 'movieId' in both datasets\n",
    "\n",
    "movie_train = pd.merge(train, unique_movies, on='movieid', how='left')"
   ]
  },
  {
   "cell_type": "code",
   "execution_count": 14,
   "id": "87be4709",
   "metadata": {
    "execution": {
     "iopub.execute_input": "2023-08-13T17:35:33.911726Z",
     "iopub.status.busy": "2023-08-13T17:35:33.911358Z",
     "iopub.status.idle": "2023-08-13T17:35:34.087258Z",
     "shell.execute_reply": "2023-08-13T17:35:34.085760Z"
    },
    "papermill": {
     "duration": 0.213057,
     "end_time": "2023-08-13T17:35:34.090545",
     "exception": false,
     "start_time": "2023-08-13T17:35:33.877488",
     "status": "completed"
    },
    "tags": []
   },
   "outputs": [],
   "source": [
    "# merge the test and new movies dataset such that test data remains intact and no new rows are added\n",
    "# left join\n",
    "# common key for merging is 'movieId' in both datasets\n",
    "\n",
    "movie_test = pd.merge(test, unique_movies, on=\"movieid\", how=\"left\")"
   ]
  },
  {
   "cell_type": "code",
   "execution_count": 15,
   "id": "bbc978a4",
   "metadata": {
    "execution": {
     "iopub.execute_input": "2023-08-13T17:35:34.154981Z",
     "iopub.status.busy": "2023-08-13T17:35:34.154511Z",
     "iopub.status.idle": "2023-08-13T17:35:34.210251Z",
     "shell.execute_reply": "2023-08-13T17:35:34.209110Z"
    },
    "papermill": {
     "duration": 0.092134,
     "end_time": "2023-08-13T17:35:34.213143",
     "exception": false,
     "start_time": "2023-08-13T17:35:34.121009",
     "status": "completed"
    },
    "tags": []
   },
   "outputs": [
    {
     "data": {
      "text/html": [
       "<div>\n",
       "<style scoped>\n",
       "    .dataframe tbody tr th:only-of-type {\n",
       "        vertical-align: middle;\n",
       "    }\n",
       "\n",
       "    .dataframe tbody tr th {\n",
       "        vertical-align: top;\n",
       "    }\n",
       "\n",
       "    .dataframe thead th {\n",
       "        text-align: right;\n",
       "    }\n",
       "</style>\n",
       "<table border=\"1\" class=\"dataframe\">\n",
       "  <thead>\n",
       "    <tr style=\"text-align: right;\">\n",
       "      <th></th>\n",
       "      <th>audienceScore</th>\n",
       "      <th>runtimeMinutes</th>\n",
       "    </tr>\n",
       "  </thead>\n",
       "  <tbody>\n",
       "    <tr>\n",
       "      <th>count</th>\n",
       "      <td>149510.000000</td>\n",
       "      <td>159382.000000</td>\n",
       "    </tr>\n",
       "    <tr>\n",
       "      <th>mean</th>\n",
       "      <td>65.214541</td>\n",
       "      <td>106.911828</td>\n",
       "    </tr>\n",
       "    <tr>\n",
       "      <th>std</th>\n",
       "      <td>19.937695</td>\n",
       "      <td>22.138131</td>\n",
       "    </tr>\n",
       "    <tr>\n",
       "      <th>min</th>\n",
       "      <td>0.000000</td>\n",
       "      <td>4.000000</td>\n",
       "    </tr>\n",
       "    <tr>\n",
       "      <th>25%</th>\n",
       "      <td>51.000000</td>\n",
       "      <td>93.000000</td>\n",
       "    </tr>\n",
       "    <tr>\n",
       "      <th>50%</th>\n",
       "      <td>68.000000</td>\n",
       "      <td>104.000000</td>\n",
       "    </tr>\n",
       "    <tr>\n",
       "      <th>75%</th>\n",
       "      <td>82.000000</td>\n",
       "      <td>118.000000</td>\n",
       "    </tr>\n",
       "    <tr>\n",
       "      <th>max</th>\n",
       "      <td>100.000000</td>\n",
       "      <td>561.000000</td>\n",
       "    </tr>\n",
       "  </tbody>\n",
       "</table>\n",
       "</div>"
      ],
      "text/plain": [
       "       audienceScore  runtimeMinutes\n",
       "count  149510.000000   159382.000000\n",
       "mean       65.214541      106.911828\n",
       "std        19.937695       22.138131\n",
       "min         0.000000        4.000000\n",
       "25%        51.000000       93.000000\n",
       "50%        68.000000      104.000000\n",
       "75%        82.000000      118.000000\n",
       "max       100.000000      561.000000"
      ]
     },
     "execution_count": 15,
     "metadata": {},
     "output_type": "execute_result"
    }
   ],
   "source": [
    "# describe new train dataset to check the standard deviation and mean etc values of the numerical columns\n",
    "movie_train.describe()"
   ]
  },
  {
   "cell_type": "code",
   "execution_count": 16,
   "id": "a56794e3",
   "metadata": {
    "execution": {
     "iopub.execute_input": "2023-08-13T17:35:34.277764Z",
     "iopub.status.busy": "2023-08-13T17:35:34.277390Z",
     "iopub.status.idle": "2023-08-13T17:35:34.541545Z",
     "shell.execute_reply": "2023-08-13T17:35:34.540313Z"
    },
    "papermill": {
     "duration": 0.299267,
     "end_time": "2023-08-13T17:35:34.543964",
     "exception": false,
     "start_time": "2023-08-13T17:35:34.244697",
     "status": "completed"
    },
    "tags": []
   },
   "outputs": [
    {
     "name": "stdout",
     "output_type": "stream",
     "text": [
      "<class 'pandas.core.frame.DataFrame'>\n",
      "Int64Index: 55315 entries, 0 to 55314\n",
      "Data columns (total 17 columns):\n",
      " #   Column                Non-Null Count  Dtype  \n",
      "---  ------                --------------  -----  \n",
      " 0   movieid               55315 non-null  object \n",
      " 1   reviewerName          55315 non-null  object \n",
      " 2   isTopCritic           55315 non-null  bool   \n",
      " 3   reviewText            52805 non-null  object \n",
      " 4   title                 55315 non-null  object \n",
      " 5   audienceScore         50384 non-null  float64\n",
      " 6   rating                31019 non-null  object \n",
      " 7   ratingContents        31019 non-null  object \n",
      " 8   releaseDateTheaters   41613 non-null  object \n",
      " 9   releaseDateStreaming  49341 non-null  object \n",
      " 10  runtimeMinutes        54053 non-null  float64\n",
      " 11  genre                 54395 non-null  object \n",
      " 12  originalLanguage      54077 non-null  object \n",
      " 13  director              55315 non-null  object \n",
      " 14  boxOffice             35320 non-null  object \n",
      " 15  distributor           39719 non-null  object \n",
      " 16  soundType             24689 non-null  object \n",
      "dtypes: bool(1), float64(2), object(14)\n",
      "memory usage: 7.2+ MB\n"
     ]
    }
   ],
   "source": [
    "# info to check the new structure of test dataset to be used for prediction\n",
    "movie_test.info()"
   ]
  },
  {
   "cell_type": "markdown",
   "id": "9d89eac3",
   "metadata": {
    "papermill": {
     "duration": 0.03136,
     "end_time": "2023-08-13T17:35:34.606054",
     "exception": false,
     "start_time": "2023-08-13T17:35:34.574694",
     "status": "completed"
    },
    "tags": []
   },
   "source": [
    "# DATA CLEANING"
   ]
  },
  {
   "cell_type": "code",
   "execution_count": 17,
   "id": "e0a923b5",
   "metadata": {
    "execution": {
     "iopub.execute_input": "2023-08-13T17:35:34.671546Z",
     "iopub.status.busy": "2023-08-13T17:35:34.670533Z",
     "iopub.status.idle": "2023-08-13T17:35:34.724384Z",
     "shell.execute_reply": "2023-08-13T17:35:34.722778Z"
    },
    "papermill": {
     "duration": 0.090535,
     "end_time": "2023-08-13T17:35:34.727146",
     "exception": false,
     "start_time": "2023-08-13T17:35:34.636611",
     "status": "completed"
    },
    "tags": []
   },
   "outputs": [],
   "source": [
    "# THE COLUMNS WHICH ARE OF NO USE COULD BE DROPPED\n",
    "drop_column = ['reviewerName','isFrequentReviewer','ratingContents','releaseDateTheaters','releaseDateStreaming','director','distributor','soundType','originalLanguage']\n",
    "\n",
    "# drop the list of columns from train and test dataset\n",
    "movie_train.drop(drop_column, axis=1, inplace=True)\n",
    "drop_column = ['reviewerName','ratingContents','releaseDateTheaters','releaseDateStreaming','director','distributor','soundType','originalLanguage']\n",
    "movie_test.drop(drop_column, axis=1, inplace=True)"
   ]
  },
  {
   "cell_type": "code",
   "execution_count": 18,
   "id": "43f22312",
   "metadata": {
    "execution": {
     "iopub.execute_input": "2023-08-13T17:35:34.791193Z",
     "iopub.status.busy": "2023-08-13T17:35:34.790802Z",
     "iopub.status.idle": "2023-08-13T17:35:34.798291Z",
     "shell.execute_reply": "2023-08-13T17:35:34.797048Z"
    },
    "papermill": {
     "duration": 0.042983,
     "end_time": "2023-08-13T17:35:34.800678",
     "exception": false,
     "start_time": "2023-08-13T17:35:34.757695",
     "status": "completed"
    },
    "tags": []
   },
   "outputs": [
    {
     "data": {
      "text/plain": [
       "(162758, 9)"
      ]
     },
     "execution_count": 18,
     "metadata": {},
     "output_type": "execute_result"
    }
   ],
   "source": [
    "movie_train.shape # define the shape for new datasets"
   ]
  },
  {
   "cell_type": "code",
   "execution_count": 19,
   "id": "9d38c0d8",
   "metadata": {
    "execution": {
     "iopub.execute_input": "2023-08-13T17:35:34.866991Z",
     "iopub.status.busy": "2023-08-13T17:35:34.866553Z",
     "iopub.status.idle": "2023-08-13T17:35:34.873602Z",
     "shell.execute_reply": "2023-08-13T17:35:34.872241Z"
    },
    "papermill": {
     "duration": 0.044548,
     "end_time": "2023-08-13T17:35:34.876025",
     "exception": false,
     "start_time": "2023-08-13T17:35:34.831477",
     "status": "completed"
    },
    "tags": []
   },
   "outputs": [
    {
     "data": {
      "text/plain": [
       "(55315, 9)"
      ]
     },
     "execution_count": 19,
     "metadata": {},
     "output_type": "execute_result"
    }
   ],
   "source": [
    "movie_test.shape # define the shape for new datasets"
   ]
  },
  {
   "cell_type": "code",
   "execution_count": 20,
   "id": "6113d74e",
   "metadata": {
    "execution": {
     "iopub.execute_input": "2023-08-13T17:35:34.944770Z",
     "iopub.status.busy": "2023-08-13T17:35:34.944328Z",
     "iopub.status.idle": "2023-08-13T17:35:35.070249Z",
     "shell.execute_reply": "2023-08-13T17:35:35.069037Z"
    },
    "papermill": {
     "duration": 0.164734,
     "end_time": "2023-08-13T17:35:35.073056",
     "exception": false,
     "start_time": "2023-08-13T17:35:34.908322",
     "status": "completed"
    },
    "tags": []
   },
   "outputs": [
    {
     "name": "stdout",
     "output_type": "stream",
     "text": [
      "<class 'pandas.core.frame.DataFrame'>\n",
      "Int64Index: 55315 entries, 0 to 55314\n",
      "Data columns (total 9 columns):\n",
      " #   Column          Non-Null Count  Dtype  \n",
      "---  ------          --------------  -----  \n",
      " 0   movieid         55315 non-null  object \n",
      " 1   isTopCritic     55315 non-null  bool   \n",
      " 2   reviewText      52805 non-null  object \n",
      " 3   title           55315 non-null  object \n",
      " 4   audienceScore   50384 non-null  float64\n",
      " 5   rating          31019 non-null  object \n",
      " 6   runtimeMinutes  54053 non-null  float64\n",
      " 7   genre           54395 non-null  object \n",
      " 8   boxOffice       35320 non-null  object \n",
      "dtypes: bool(1), float64(2), object(6)\n",
      "memory usage: 3.9+ MB\n"
     ]
    }
   ],
   "source": [
    "movie_test.info() # checking for the new dataset structure"
   ]
  },
  {
   "cell_type": "markdown",
   "id": "7a849bb9",
   "metadata": {
    "papermill": {
     "duration": 0.032142,
     "end_time": "2023-08-13T17:35:35.139140",
     "exception": false,
     "start_time": "2023-08-13T17:35:35.106998",
     "status": "completed"
    },
    "tags": []
   },
   "source": [
    "**SPLITTING DATA INTO X AND Y**"
   ]
  },
  {
   "cell_type": "code",
   "execution_count": 21,
   "id": "5093a0c6",
   "metadata": {
    "execution": {
     "iopub.execute_input": "2023-08-13T17:35:35.206214Z",
     "iopub.status.busy": "2023-08-13T17:35:35.205626Z",
     "iopub.status.idle": "2023-08-13T17:35:35.229238Z",
     "shell.execute_reply": "2023-08-13T17:35:35.228166Z"
    },
    "papermill": {
     "duration": 0.060828,
     "end_time": "2023-08-13T17:35:35.232463",
     "exception": false,
     "start_time": "2023-08-13T17:35:35.171635",
     "status": "completed"
    },
    "tags": []
   },
   "outputs": [],
   "source": [
    "# separate feature columns into x train\n",
    "X_train = movie_train.drop([\"sentiment\"], axis = \"columns\")\n",
    "\n",
    "# separate target column => 'sentiment' into y train\n",
    "y_train = movie_train[\"sentiment\"]"
   ]
  },
  {
   "cell_type": "markdown",
   "id": "7afa1fcb",
   "metadata": {
    "papermill": {
     "duration": 0.031517,
     "end_time": "2023-08-13T17:35:35.296375",
     "exception": false,
     "start_time": "2023-08-13T17:35:35.264858",
     "status": "completed"
    },
    "tags": []
   },
   "source": [
    "**SPLITTING INTO TRAINING AND VALIDATION DATA**"
   ]
  },
  {
   "cell_type": "code",
   "execution_count": 22,
   "id": "ec140fad",
   "metadata": {
    "execution": {
     "iopub.execute_input": "2023-08-13T17:35:35.363508Z",
     "iopub.status.busy": "2023-08-13T17:35:35.362839Z",
     "iopub.status.idle": "2023-08-13T17:35:35.507020Z",
     "shell.execute_reply": "2023-08-13T17:35:35.505691Z"
    },
    "papermill": {
     "duration": 0.181549,
     "end_time": "2023-08-13T17:35:35.510081",
     "exception": false,
     "start_time": "2023-08-13T17:35:35.328532",
     "status": "completed"
    },
    "tags": []
   },
   "outputs": [],
   "source": [
    "# split the training data further into training and validation\n",
    "# size of validation data is 25% of the training data\n",
    "X_train, X_val, y_train, y_val = train_test_split(X_train, y_train, test_size=0.25, random_state= 42)"
   ]
  },
  {
   "cell_type": "code",
   "execution_count": 23,
   "id": "f537426b",
   "metadata": {
    "execution": {
     "iopub.execute_input": "2023-08-13T17:35:35.579597Z",
     "iopub.status.busy": "2023-08-13T17:35:35.579195Z",
     "iopub.status.idle": "2023-08-13T17:35:35.651165Z",
     "shell.execute_reply": "2023-08-13T17:35:35.650032Z"
    },
    "papermill": {
     "duration": 0.111481,
     "end_time": "2023-08-13T17:35:35.654398",
     "exception": false,
     "start_time": "2023-08-13T17:35:35.542917",
     "status": "completed"
    },
    "tags": []
   },
   "outputs": [],
   "source": [
    "# filling the empty values in the text feature before preprocessing\n",
    "# replacing the NAN values with empty string\n",
    "\n",
    "X_train['reviewText'] = X_train['reviewText'].fillna(\" \")\n",
    "X_val['reviewText'] = X_val['reviewText'].fillna(\" \")\n",
    "movie_test['reviewText'] = movie_test['reviewText'].fillna(\" \")"
   ]
  },
  {
   "cell_type": "code",
   "execution_count": 24,
   "id": "8f5eceea",
   "metadata": {
    "execution": {
     "iopub.execute_input": "2023-08-13T17:35:35.720692Z",
     "iopub.status.busy": "2023-08-13T17:35:35.720281Z",
     "iopub.status.idle": "2023-08-13T17:35:35.980078Z",
     "shell.execute_reply": "2023-08-13T17:35:35.979266Z"
    },
    "papermill": {
     "duration": 0.294636,
     "end_time": "2023-08-13T17:35:35.982172",
     "exception": false,
     "start_time": "2023-08-13T17:35:35.687536",
     "status": "completed"
    },
    "tags": []
   },
   "outputs": [
    {
     "data": {
      "text/plain": [
       "movieid               0\n",
       "reviewText            0\n",
       "title                 0\n",
       "audienceScore      9982\n",
       "rating            47830\n",
       "runtimeMinutes     2515\n",
       "genre              1837\n",
       "boxOffice         39580\n",
       "dtype: int64"
      ]
     },
     "execution_count": 24,
     "metadata": {},
     "output_type": "execute_result"
    }
   ],
   "source": [
    "X_train.isnull().sum()   # null values sum in training data"
   ]
  },
  {
   "cell_type": "code",
   "execution_count": 25,
   "id": "24ebffc7",
   "metadata": {
    "execution": {
     "iopub.execute_input": "2023-08-13T17:35:36.050873Z",
     "iopub.status.busy": "2023-08-13T17:35:36.049446Z",
     "iopub.status.idle": "2023-08-13T17:35:36.141405Z",
     "shell.execute_reply": "2023-08-13T17:35:36.140168Z"
    },
    "papermill": {
     "duration": 0.130041,
     "end_time": "2023-08-13T17:35:36.144134",
     "exception": false,
     "start_time": "2023-08-13T17:35:36.014093",
     "status": "completed"
    },
    "tags": []
   },
   "outputs": [
    {
     "data": {
      "text/plain": [
       "movieid               0\n",
       "reviewText            0\n",
       "title                 0\n",
       "audienceScore      3266\n",
       "rating            15894\n",
       "runtimeMinutes      861\n",
       "genre               601\n",
       "boxOffice         13196\n",
       "dtype: int64"
      ]
     },
     "execution_count": 25,
     "metadata": {},
     "output_type": "execute_result"
    }
   ],
   "source": [
    "X_val.isnull().sum()   # null values sum in validation data"
   ]
  },
  {
   "cell_type": "code",
   "execution_count": 26,
   "id": "d4e981b2",
   "metadata": {
    "execution": {
     "iopub.execute_input": "2023-08-13T17:35:36.214462Z",
     "iopub.status.busy": "2023-08-13T17:35:36.214082Z",
     "iopub.status.idle": "2023-08-13T17:35:36.222275Z",
     "shell.execute_reply": "2023-08-13T17:35:36.221174Z"
    },
    "papermill": {
     "duration": 0.044865,
     "end_time": "2023-08-13T17:35:36.224467",
     "exception": false,
     "start_time": "2023-08-13T17:35:36.179602",
     "status": "completed"
    },
    "tags": []
   },
   "outputs": [
    {
     "data": {
      "text/plain": [
       "Index(['audienceScore', 'runtimeMinutes'], dtype='object')"
      ]
     },
     "execution_count": 26,
     "metadata": {},
     "output_type": "execute_result"
    }
   ],
   "source": [
    "X_train.select_dtypes(include='number').columns    # to check the numerical features present in traning dataset"
   ]
  },
  {
   "cell_type": "markdown",
   "id": "74437ef1",
   "metadata": {
    "papermill": {
     "duration": 0.030856,
     "end_time": "2023-08-13T17:35:36.287030",
     "exception": false,
     "start_time": "2023-08-13T17:35:36.256174",
     "status": "completed"
    },
    "tags": []
   },
   "source": [
    "# DATA VISUALIZATION"
   ]
  },
  {
   "cell_type": "code",
   "execution_count": 27,
   "id": "4a2690a6",
   "metadata": {
    "execution": {
     "iopub.execute_input": "2023-08-13T17:35:36.352744Z",
     "iopub.status.busy": "2023-08-13T17:35:36.352072Z",
     "iopub.status.idle": "2023-08-13T17:35:36.962655Z",
     "shell.execute_reply": "2023-08-13T17:35:36.961505Z"
    },
    "papermill": {
     "duration": 0.646998,
     "end_time": "2023-08-13T17:35:36.965373",
     "exception": false,
     "start_time": "2023-08-13T17:35:36.318375",
     "status": "completed"
    },
    "tags": []
   },
   "outputs": [
    {
     "data": {
      "image/png": "[encoded data removed]",
      "text/plain": [
       "<Figure size 1000x600 with 1 Axes>"
      ]
     },
     "metadata": {},
     "output_type": "display_data"
    }
   ],
   "source": [
    "# set the figure size\n",
    "plt.figure(figsize=(10, 6))\n",
    "\n",
    "# FOR TRAINING DATA\n",
    "# using boxplot from seaborn library \n",
    "# shows the numerical features with the outlier values present i.e. distribution of data\n",
    "sns.boxplot(data=X_train)\n",
    "\n",
    "plt.title(\"Box Plot for numeric features : audienceScore and runtimeMinutes\")\n",
    "plt.show()"
   ]
  },
  {
   "cell_type": "code",
   "execution_count": 28,
   "id": "864b1836",
   "metadata": {
    "execution": {
     "iopub.execute_input": "2023-08-13T17:35:37.032835Z",
     "iopub.status.busy": "2023-08-13T17:35:37.031798Z",
     "iopub.status.idle": "2023-08-13T17:35:37.465833Z",
     "shell.execute_reply": "2023-08-13T17:35:37.464634Z"
    },
    "papermill": {
     "duration": 0.471093,
     "end_time": "2023-08-13T17:35:37.468712",
     "exception": false,
     "start_time": "2023-08-13T17:35:36.997619",
     "status": "completed"
    },
    "tags": []
   },
   "outputs": [
    {
     "data": {
      "image/png": "[encoded data removed]",
      "text/plain": [
       "<Figure size 1000x600 with 1 Axes>"
      ]
     },
     "metadata": {},
     "output_type": "display_data"
    }
   ],
   "source": [
    "# set the figure size\n",
    "plt.figure(figsize=(10, 6))\n",
    "\n",
    "#FOR TEST DATA\n",
    "# using boxplot from seaborn library \n",
    "# shows the numerical features with the outlier values present i.e. distribution of data\n",
    "sns.boxplot(data=movie_test)\n",
    "\n",
    "plt.title(\"Box Plot for numeric features : audienceScore and runtimeMinutes\")\n",
    "plt.show()"
   ]
  },
  {
   "cell_type": "code",
   "execution_count": 29,
   "id": "3eb8846f",
   "metadata": {
    "execution": {
     "iopub.execute_input": "2023-08-13T17:35:37.542227Z",
     "iopub.status.busy": "2023-08-13T17:35:37.541818Z",
     "iopub.status.idle": "2023-08-13T17:35:38.164672Z",
     "shell.execute_reply": "2023-08-13T17:35:38.163729Z"
    },
    "papermill": {
     "duration": 0.662834,
     "end_time": "2023-08-13T17:35:38.167068",
     "exception": false,
     "start_time": "2023-08-13T17:35:37.504234",
     "status": "completed"
    },
    "tags": []
   },
   "outputs": [
    {
     "data": {
      "image/png": "[encoded data removed]",
      "text/plain": [
       "<Figure size 640x480 with 1 Axes>"
      ]
     },
     "metadata": {},
     "output_type": "display_data"
    }
   ],
   "source": [
    "# FOR TRAINING DATA\n",
    "# use scatterplot to visualize distribution of data between the two numerical features\n",
    "sns.scatterplot(data=X_train, x='audienceScore', y='runtimeMinutes',markers=True)\n",
    "plt.xlabel('audienceScore')\n",
    "plt.ylabel('runtimeMinutes')\n",
    "plt.title('Scatter Plot of Numeric Features')\n",
    "plt.show()"
   ]
  },
  {
   "cell_type": "code",
   "execution_count": 30,
   "id": "182c68c8",
   "metadata": {
    "execution": {
     "iopub.execute_input": "2023-08-13T17:35:38.241225Z",
     "iopub.status.busy": "2023-08-13T17:35:38.240566Z",
     "iopub.status.idle": "2023-08-13T17:35:38.672217Z",
     "shell.execute_reply": "2023-08-13T17:35:38.670826Z"
    },
    "papermill": {
     "duration": 0.469462,
     "end_time": "2023-08-13T17:35:38.675010",
     "exception": false,
     "start_time": "2023-08-13T17:35:38.205548",
     "status": "completed"
    },
    "tags": []
   },
   "outputs": [
    {
     "data": {
      "image/png": "[encoded data removed]",
      "text/plain": [
       "<Figure size 640x480 with 1 Axes>"
      ]
     },
     "metadata": {},
     "output_type": "display_data"
    }
   ],
   "source": [
    "# FOR TEST DATA\n",
    "# use scatterplot to visualize distribution of data between the two numerical features\n",
    "sns.scatterplot(data=movie_test, x='audienceScore', y='runtimeMinutes',markers=True)\n",
    "plt.xlabel('audienceScore')\n",
    "plt.ylabel('runtimeMinutes')\n",
    "plt.title('Scatter Plot of Numeric Features')\n",
    "plt.show()"
   ]
  },
  {
   "cell_type": "code",
   "execution_count": 31,
   "id": "dbbe1e4e",
   "metadata": {
    "execution": {
     "iopub.execute_input": "2023-08-13T17:35:38.752071Z",
     "iopub.status.busy": "2023-08-13T17:35:38.751457Z",
     "iopub.status.idle": "2023-08-13T17:35:39.079086Z",
     "shell.execute_reply": "2023-08-13T17:35:39.077536Z"
    },
    "papermill": {
     "duration": 0.369326,
     "end_time": "2023-08-13T17:35:39.081597",
     "exception": false,
     "start_time": "2023-08-13T17:35:38.712271",
     "status": "completed"
    },
    "tags": []
   },
   "outputs": [
    {
     "data": {
      "image/png": "[encoded data removed]",
      "text/plain": [
       "<Figure size 640x480 with 2 Axes>"
      ]
     },
     "metadata": {},
     "output_type": "display_data"
    }
   ],
   "source": [
    "# TRAINING DATA\n",
    "# defining the numerical features \n",
    "temp = X_train[['audienceScore','runtimeMinutes']]\n",
    "\n",
    "#heatmap to explain correlation between numerical features\n",
    "sns.heatmap(temp.corr(), annot=True, cmap='coolwarm',linewidths=0.5)\n",
    "\n",
    "plt.title('Heatmap between numeric features')\n",
    "plt.show()"
   ]
  },
  {
   "cell_type": "code",
   "execution_count": 32,
   "id": "d36bcc52",
   "metadata": {
    "execution": {
     "iopub.execute_input": "2023-08-13T17:35:39.153685Z",
     "iopub.status.busy": "2023-08-13T17:35:39.153079Z",
     "iopub.status.idle": "2023-08-13T17:35:39.470578Z",
     "shell.execute_reply": "2023-08-13T17:35:39.469487Z"
    },
    "papermill": {
     "duration": 0.356385,
     "end_time": "2023-08-13T17:35:39.472918",
     "exception": false,
     "start_time": "2023-08-13T17:35:39.116533",
     "status": "completed"
    },
    "tags": []
   },
   "outputs": [
    {
     "data": {
      "image/png": "[encoded data removed]",
      "text/plain": [
       "<Figure size 640x480 with 2 Axes>"
      ]
     },
     "metadata": {},
     "output_type": "display_data"
    }
   ],
   "source": [
    "# TEST DATA\n",
    "# defining the numerical features \n",
    "temp = movie_test[['audienceScore','runtimeMinutes']]\n",
    "\n",
    "#heatmap to explain correlation between numerical features\n",
    "sns.heatmap(temp.corr(), annot=True, cmap='coolwarm',linewidths=0.5)\n",
    "\n",
    "plt.title('Heatmap between numeric features')\n",
    "plt.show()"
   ]
  },
  {
   "cell_type": "markdown",
   "id": "161cb358",
   "metadata": {
    "papermill": {
     "duration": 0.035042,
     "end_time": "2023-08-13T17:35:39.545445",
     "exception": false,
     "start_time": "2023-08-13T17:35:39.510403",
     "status": "completed"
    },
    "tags": []
   },
   "source": [
    "# DATA PREPROCESSING"
   ]
  },
  {
   "cell_type": "code",
   "execution_count": 33,
   "id": "c6b20c6c",
   "metadata": {
    "execution": {
     "iopub.execute_input": "2023-08-13T17:35:39.618521Z",
     "iopub.status.busy": "2023-08-13T17:35:39.617873Z",
     "iopub.status.idle": "2023-08-13T17:35:39.622991Z",
     "shell.execute_reply": "2023-08-13T17:35:39.622209Z"
    },
    "papermill": {
     "duration": 0.044243,
     "end_time": "2023-08-13T17:35:39.625139",
     "exception": false,
     "start_time": "2023-08-13T17:35:39.580896",
     "status": "completed"
    },
    "tags": []
   },
   "outputs": [],
   "source": [
    "# defining the different features to apply preprocessing on\n",
    "\n",
    "num_feature = ['audienceScore','runtimeMinutes']     # features containing numerical values\n",
    "cat_feature = ['genre']                              # features containing categorical values\n",
    "text_feature = 'reviewText'                          # features containing text values"
   ]
  },
  {
   "cell_type": "markdown",
   "id": "60012638",
   "metadata": {
    "papermill": {
     "duration": 0.035065,
     "end_time": "2023-08-13T17:35:39.696387",
     "exception": false,
     "start_time": "2023-08-13T17:35:39.661322",
     "status": "completed"
    },
    "tags": []
   },
   "source": [
    "**DEFINE PIPELINES**"
   ]
  },
  {
   "cell_type": "code",
   "execution_count": 34,
   "id": "b6c90785",
   "metadata": {
    "execution": {
     "iopub.execute_input": "2023-08-13T17:35:39.770732Z",
     "iopub.status.busy": "2023-08-13T17:35:39.770214Z",
     "iopub.status.idle": "2023-08-13T17:35:39.793749Z",
     "shell.execute_reply": "2023-08-13T17:35:39.792502Z"
    },
    "papermill": {
     "duration": 0.063956,
     "end_time": "2023-08-13T17:35:39.796198",
     "exception": false,
     "start_time": "2023-08-13T17:35:39.732242",
     "status": "completed"
    },
    "tags": []
   },
   "outputs": [],
   "source": [
    "# creating pipelines for each kind of features\n",
    "# to apply data transformation\n",
    "# Pipeline for numerical features\n",
    "# first apply SimpleImputer which imputes or replaces the missing values of the numrical columns with\n",
    "# a new value which contains 'mean' of the feature\n",
    "\n",
    "#num_trans_1 pipeline containing standard scaler function\n",
    "num_trans_1 = Pipeline(steps=[\n",
    "    ('si', SimpleImputer(missing_values = np.nan,strategy='median')),\n",
    "    ('scaler', StandardScaler())\n",
    "])\n",
    "\n",
    "#num_trans_2 pipeline containing min max scaler function\n",
    "num_trans_2 = Pipeline(steps=[\n",
    "    ('si', SimpleImputer(missing_values = np.nan,strategy='median')),\n",
    "    ('scaler', MinMaxScaler())\n",
    "])\n",
    "\n",
    "\n",
    "# Pipeline for categorical features\n",
    "# first apply SimpleImputer which imputes or replaces the missing values of categorical features with\n",
    "# the most frequent value of the feature\n",
    "cat_trans = Pipeline(steps=[\n",
    "    ('si', SimpleImputer(missing_values = np.nan,strategy='most_frequent')),\n",
    "    ('encoder', OneHotEncoder(handle_unknown='ignore'))\n",
    "])"
   ]
  },
  {
   "cell_type": "code",
   "execution_count": 35,
   "id": "4ad6304c",
   "metadata": {
    "execution": {
     "iopub.execute_input": "2023-08-13T17:35:39.871237Z",
     "iopub.status.busy": "2023-08-13T17:35:39.870574Z",
     "iopub.status.idle": "2023-08-13T17:35:39.878906Z",
     "shell.execute_reply": "2023-08-13T17:35:39.877437Z"
    },
    "papermill": {
     "duration": 0.049656,
     "end_time": "2023-08-13T17:35:39.881321",
     "exception": false,
     "start_time": "2023-08-13T17:35:39.831665",
     "status": "completed"
    },
    "tags": []
   },
   "outputs": [],
   "source": [
    "# use ColumnnTransformer to summarize the pipelines and the features to apply on \n",
    "# it contains the list of all transformers\n",
    "# a transformer is a pipeline which contain transformations along with features to apply that pipeline on\n",
    "# AND A VARIABLE NAME FOR THAT TRANSFORMER\n",
    "transformer_1 = ColumnTransformer(\n",
    "    transformers=[\n",
    "        ('num', num_trans_1, num_feature),\n",
    "        ('cat', cat_trans, cat_feature),\n",
    "        ('text', TfidfVectorizer(), text_feature)\n",
    "    ])\n",
    "\n",
    "transformer_2 = ColumnTransformer(\n",
    "    transformers=[\n",
    "        ('num', num_trans_2, num_feature),\n",
    "        ('cat', cat_trans, cat_feature),\n",
    "        ('text', TfidfVectorizer(), text_feature)\n",
    "    ])"
   ]
  },
  {
   "cell_type": "code",
   "execution_count": 36,
   "id": "46069c47",
   "metadata": {
    "execution": {
     "iopub.execute_input": "2023-08-13T17:35:39.959423Z",
     "iopub.status.busy": "2023-08-13T17:35:39.958665Z",
     "iopub.status.idle": "2023-08-13T17:35:44.655792Z",
     "shell.execute_reply": "2023-08-13T17:35:44.654727Z"
    },
    "papermill": {
     "duration": 4.739185,
     "end_time": "2023-08-13T17:35:44.658525",
     "exception": false,
     "start_time": "2023-08-13T17:35:39.919340",
     "status": "completed"
    },
    "tags": []
   },
   "outputs": [],
   "source": [
    "#transformer 1 for those modls which require standard scaling\n",
    "# using fit transform to ompute parameters required for a specific transformation\n",
    "#and transform to apply the computed parameters from the fit to training data\n",
    "x_transformed_1 = transformer_1.fit_transform(X_train)"
   ]
  },
  {
   "cell_type": "code",
   "execution_count": 37,
   "id": "2d452bd2",
   "metadata": {
    "execution": {
     "iopub.execute_input": "2023-08-13T17:35:44.732933Z",
     "iopub.status.busy": "2023-08-13T17:35:44.732192Z",
     "iopub.status.idle": "2023-08-13T17:35:49.502127Z",
     "shell.execute_reply": "2023-08-13T17:35:49.501002Z"
    },
    "papermill": {
     "duration": 4.809689,
     "end_time": "2023-08-13T17:35:49.504787",
     "exception": false,
     "start_time": "2023-08-13T17:35:44.695098",
     "status": "completed"
    },
    "tags": []
   },
   "outputs": [],
   "source": [
    "#transformer 1 for those modls which require standard scaling\n",
    "# using fit transform to ompute parameters required for a specific transformation\n",
    "#and transform to apply the computed parameters from the fit to training data\n",
    "x_transformed_2 = transformer_2.fit_transform(X_train)"
   ]
  },
  {
   "cell_type": "code",
   "execution_count": 38,
   "id": "a83fbc0b",
   "metadata": {
    "execution": {
     "iopub.execute_input": "2023-08-13T17:35:49.581974Z",
     "iopub.status.busy": "2023-08-13T17:35:49.581563Z",
     "iopub.status.idle": "2023-08-13T17:35:51.055907Z",
     "shell.execute_reply": "2023-08-13T17:35:51.054525Z"
    },
    "papermill": {
     "duration": 1.516687,
     "end_time": "2023-08-13T17:35:51.059512",
     "exception": false,
     "start_time": "2023-08-13T17:35:49.542825",
     "status": "completed"
    },
    "tags": []
   },
   "outputs": [],
   "source": [
    "#transformer 1 for satndard scaled validation data\n",
    "# apply transform on validation data which uses the parameters used in fit\n",
    "X_val_1 = transformer_1.transform(X_val)"
   ]
  },
  {
   "cell_type": "code",
   "execution_count": 39,
   "id": "3dd4036e",
   "metadata": {
    "execution": {
     "iopub.execute_input": "2023-08-13T17:35:51.153256Z",
     "iopub.status.busy": "2023-08-13T17:35:51.152740Z",
     "iopub.status.idle": "2023-08-13T17:35:52.652355Z",
     "shell.execute_reply": "2023-08-13T17:35:52.650860Z"
    },
    "papermill": {
     "duration": 1.546586,
     "end_time": "2023-08-13T17:35:52.655400",
     "exception": false,
     "start_time": "2023-08-13T17:35:51.108814",
     "status": "completed"
    },
    "tags": []
   },
   "outputs": [],
   "source": [
    "#transformer 1 for satndard scaled validation data\n",
    "# apply transform on validation data which uses the parameters used in fit\n",
    "X_val_2 = transformer_2.transform(X_val)"
   ]
  },
  {
   "cell_type": "code",
   "execution_count": 40,
   "id": "9bd625ea",
   "metadata": {
    "execution": {
     "iopub.execute_input": "2023-08-13T17:35:52.733634Z",
     "iopub.status.busy": "2023-08-13T17:35:52.733228Z",
     "iopub.status.idle": "2023-08-13T17:35:54.680713Z",
     "shell.execute_reply": "2023-08-13T17:35:54.679465Z"
    },
    "papermill": {
     "duration": 1.989495,
     "end_time": "2023-08-13T17:35:54.683693",
     "exception": false,
     "start_time": "2023-08-13T17:35:52.694198",
     "status": "completed"
    },
    "tags": []
   },
   "outputs": [],
   "source": [
    "X_test = transformer_1.transform(movie_test)"
   ]
  },
  {
   "cell_type": "markdown",
   "id": "4643a96a",
   "metadata": {
    "papermill": {
     "duration": 0.039048,
     "end_time": "2023-08-13T17:35:54.759374",
     "exception": false,
     "start_time": "2023-08-13T17:35:54.720326",
     "status": "completed"
    },
    "tags": []
   },
   "source": [
    "# APPLYING MODELS ON DATASET"
   ]
  },
  {
   "cell_type": "markdown",
   "id": "f17ae86f",
   "metadata": {
    "papermill": {
     "duration": 0.038705,
     "end_time": "2023-08-13T17:35:54.834546",
     "exception": false,
     "start_time": "2023-08-13T17:35:54.795841",
     "status": "completed"
    },
    "tags": []
   },
   "source": [
    "**LOGISTIC REGRESSION MODEL**"
   ]
  },
  {
   "cell_type": "code",
   "execution_count": 41,
   "id": "cfc456f7",
   "metadata": {
    "execution": {
     "iopub.execute_input": "2023-08-13T17:35:54.908686Z",
     "iopub.status.busy": "2023-08-13T17:35:54.908272Z",
     "iopub.status.idle": "2023-08-13T17:35:54.913349Z",
     "shell.execute_reply": "2023-08-13T17:35:54.912152Z"
    },
    "papermill": {
     "duration": 0.04488,
     "end_time": "2023-08-13T17:35:54.915668",
     "exception": false,
     "start_time": "2023-08-13T17:35:54.870788",
     "status": "completed"
    },
    "tags": []
   },
   "outputs": [],
   "source": [
    "# initilise logistic regression model with random state = 42\n",
    "lr = LogisticRegression()"
   ]
  },
  {
   "cell_type": "code",
   "execution_count": 42,
   "id": "5dd553f3",
   "metadata": {
    "execution": {
     "iopub.execute_input": "2023-08-13T17:35:54.993687Z",
     "iopub.status.busy": "2023-08-13T17:35:54.993042Z",
     "iopub.status.idle": "2023-08-13T17:35:54.998304Z",
     "shell.execute_reply": "2023-08-13T17:35:54.997193Z"
    },
    "papermill": {
     "duration": 0.046475,
     "end_time": "2023-08-13T17:35:55.000808",
     "exception": false,
     "start_time": "2023-08-13T17:35:54.954333",
     "status": "completed"
    },
    "tags": []
   },
   "outputs": [],
   "source": [
    "# defining param grid for the logistic regression model which can be used to fit the trainind data\n",
    "param_grid = {\n",
    "    'C': [0.001, 0.01, 0.1, 1, 10, 100],  \n",
    "    'penalty': ['l1', 'l2'],            \n",
    "}"
   ]
  },
  {
   "cell_type": "code",
   "execution_count": 43,
   "id": "babc4ed8",
   "metadata": {
    "execution": {
     "iopub.execute_input": "2023-08-13T17:35:55.075535Z",
     "iopub.status.busy": "2023-08-13T17:35:55.074688Z",
     "iopub.status.idle": "2023-08-13T17:35:55.080148Z",
     "shell.execute_reply": "2023-08-13T17:35:55.079235Z"
    },
    "papermill": {
     "duration": 0.044996,
     "end_time": "2023-08-13T17:35:55.082673",
     "exception": false,
     "start_time": "2023-08-13T17:35:55.037677",
     "status": "completed"
    },
    "tags": []
   },
   "outputs": [],
   "source": [
    "# initialize GridSearchCV with LOGISTIC REGRESSION estimator and its defined parameters\n",
    "gridSearch = GridSearchCV(estimator=lr, param_grid=param_grid, cv=5, n_jobs=-1)"
   ]
  },
  {
   "cell_type": "code",
   "execution_count": 44,
   "id": "8be44afb",
   "metadata": {
    "execution": {
     "iopub.execute_input": "2023-08-13T17:35:55.158699Z",
     "iopub.status.busy": "2023-08-13T17:35:55.157900Z",
     "iopub.status.idle": "2023-08-13T17:36:39.926468Z",
     "shell.execute_reply": "2023-08-13T17:36:39.924846Z"
    },
    "papermill": {
     "duration": 44.811282,
     "end_time": "2023-08-13T17:36:39.930698",
     "exception": false,
     "start_time": "2023-08-13T17:35:55.119416",
     "status": "completed"
    },
    "tags": []
   },
   "outputs": [
    {
     "name": "stderr",
     "output_type": "stream",
     "text": [
      "/opt/conda/lib/python3.10/site-packages/sklearn/linear_model/_logistic.py:458: ConvergenceWarning: lbfgs failed to converge (status=1):\n",
      "STOP: TOTAL NO. of ITERATIONS REACHED LIMIT.\n",
      "\n",
      "Increase the number of iterations (max_iter) or scale the data as shown in:\n",
      "    https://scikit-learn.org/stable/modules/preprocessing.html\n",
      "Please also refer to the documentation for alternative solver options:\n",
      "    https://scikit-learn.org/stable/modules/linear_model.html#logistic-regression\n",
      "  n_iter_i = _check_optimize_result(\n",
      "/opt/conda/lib/python3.10/site-packages/sklearn/linear_model/_logistic.py:458: ConvergenceWarning: lbfgs failed to converge (status=1):\n",
      "STOP: TOTAL NO. of ITERATIONS REACHED LIMIT.\n",
      "\n",
      "Increase the number of iterations (max_iter) or scale the data as shown in:\n",
      "    https://scikit-learn.org/stable/modules/preprocessing.html\n",
      "Please also refer to the documentation for alternative solver options:\n",
      "    https://scikit-learn.org/stable/modules/linear_model.html#logistic-regression\n",
      "  n_iter_i = _check_optimize_result(\n",
      "/opt/conda/lib/python3.10/site-packages/sklearn/linear_model/_logistic.py:458: ConvergenceWarning: lbfgs failed to converge (status=1):\n",
      "STOP: TOTAL NO. of ITERATIONS REACHED LIMIT.\n",
      "\n",
      "Increase the number of iterations (max_iter) or scale the data as shown in:\n",
      "    https://scikit-learn.org/stable/modules/preprocessing.html\n",
      "Please also refer to the documentation for alternative solver options:\n",
      "    https://scikit-learn.org/stable/modules/linear_model.html#logistic-regression\n",
      "  n_iter_i = _check_optimize_result(\n",
      "/opt/conda/lib/python3.10/site-packages/sklearn/linear_model/_logistic.py:458: ConvergenceWarning: lbfgs failed to converge (status=1):\n",
      "STOP: TOTAL NO. of ITERATIONS REACHED LIMIT.\n",
      "\n",
      "Increase the number of iterations (max_iter) or scale the data as shown in:\n",
      "    https://scikit-learn.org/stable/modules/preprocessing.html\n",
      "Please also refer to the documentation for alternative solver options:\n",
      "    https://scikit-learn.org/stable/modules/linear_model.html#logistic-regression\n",
      "  n_iter_i = _check_optimize_result(\n",
      "/opt/conda/lib/python3.10/site-packages/sklearn/linear_model/_logistic.py:458: ConvergenceWarning: lbfgs failed to converge (status=1):\n",
      "STOP: TOTAL NO. of ITERATIONS REACHED LIMIT.\n",
      "\n",
      "Increase the number of iterations (max_iter) or scale the data as shown in:\n",
      "    https://scikit-learn.org/stable/modules/preprocessing.html\n",
      "Please also refer to the documentation for alternative solver options:\n",
      "    https://scikit-learn.org/stable/modules/linear_model.html#logistic-regression\n",
      "  n_iter_i = _check_optimize_result(\n",
      "/opt/conda/lib/python3.10/site-packages/sklearn/linear_model/_logistic.py:458: ConvergenceWarning: lbfgs failed to converge (status=1):\n",
      "STOP: TOTAL NO. of ITERATIONS REACHED LIMIT.\n",
      "\n",
      "Increase the number of iterations (max_iter) or scale the data as shown in:\n",
      "    https://scikit-learn.org/stable/modules/preprocessing.html\n",
      "Please also refer to the documentation for alternative solver options:\n",
      "    https://scikit-learn.org/stable/modules/linear_model.html#logistic-regression\n",
      "  n_iter_i = _check_optimize_result(\n",
      "/opt/conda/lib/python3.10/site-packages/sklearn/linear_model/_logistic.py:458: ConvergenceWarning: lbfgs failed to converge (status=1):\n",
      "STOP: TOTAL NO. of ITERATIONS REACHED LIMIT.\n",
      "\n",
      "Increase the number of iterations (max_iter) or scale the data as shown in:\n",
      "    https://scikit-learn.org/stable/modules/preprocessing.html\n",
      "Please also refer to the documentation for alternative solver options:\n",
      "    https://scikit-learn.org/stable/modules/linear_model.html#logistic-regression\n",
      "  n_iter_i = _check_optimize_result(\n",
      "/opt/conda/lib/python3.10/site-packages/sklearn/linear_model/_logistic.py:458: ConvergenceWarning: lbfgs failed to converge (status=1):\n",
      "STOP: TOTAL NO. of ITERATIONS REACHED LIMIT.\n",
      "\n",
      "Increase the number of iterations (max_iter) or scale the data as shown in:\n",
      "    https://scikit-learn.org/stable/modules/preprocessing.html\n",
      "Please also refer to the documentation for alternative solver options:\n",
      "    https://scikit-learn.org/stable/modules/linear_model.html#logistic-regression\n",
      "  n_iter_i = _check_optimize_result(\n",
      "/opt/conda/lib/python3.10/site-packages/sklearn/linear_model/_logistic.py:458: ConvergenceWarning: lbfgs failed to converge (status=1):\n",
      "STOP: TOTAL NO. of ITERATIONS REACHED LIMIT.\n",
      "\n",
      "Increase the number of iterations (max_iter) or scale the data as shown in:\n",
      "    https://scikit-learn.org/stable/modules/preprocessing.html\n",
      "Please also refer to the documentation for alternative solver options:\n",
      "    https://scikit-learn.org/stable/modules/linear_model.html#logistic-regression\n",
      "  n_iter_i = _check_optimize_result(\n",
      "/opt/conda/lib/python3.10/site-packages/sklearn/linear_model/_logistic.py:458: ConvergenceWarning: lbfgs failed to converge (status=1):\n",
      "STOP: TOTAL NO. of ITERATIONS REACHED LIMIT.\n",
      "\n",
      "Increase the number of iterations (max_iter) or scale the data as shown in:\n",
      "    https://scikit-learn.org/stable/modules/preprocessing.html\n",
      "Please also refer to the documentation for alternative solver options:\n",
      "    https://scikit-learn.org/stable/modules/linear_model.html#logistic-regression\n",
      "  n_iter_i = _check_optimize_result(\n",
      "/opt/conda/lib/python3.10/site-packages/sklearn/linear_model/_logistic.py:458: ConvergenceWarning: lbfgs failed to converge (status=1):\n",
      "STOP: TOTAL NO. of ITERATIONS REACHED LIMIT.\n",
      "\n",
      "Increase the number of iterations (max_iter) or scale the data as shown in:\n",
      "    https://scikit-learn.org/stable/modules/preprocessing.html\n",
      "Please also refer to the documentation for alternative solver options:\n",
      "    https://scikit-learn.org/stable/modules/linear_model.html#logistic-regression\n",
      "  n_iter_i = _check_optimize_result(\n",
      "/opt/conda/lib/python3.10/site-packages/sklearn/linear_model/_logistic.py:458: ConvergenceWarning: lbfgs failed to converge (status=1):\n",
      "STOP: TOTAL NO. of ITERATIONS REACHED LIMIT.\n",
      "\n",
      "Increase the number of iterations (max_iter) or scale the data as shown in:\n",
      "    https://scikit-learn.org/stable/modules/preprocessing.html\n",
      "Please also refer to the documentation for alternative solver options:\n",
      "    https://scikit-learn.org/stable/modules/linear_model.html#logistic-regression\n",
      "  n_iter_i = _check_optimize_result(\n",
      "/opt/conda/lib/python3.10/site-packages/sklearn/linear_model/_logistic.py:458: ConvergenceWarning: lbfgs failed to converge (status=1):\n",
      "STOP: TOTAL NO. of ITERATIONS REACHED LIMIT.\n",
      "\n",
      "Increase the number of iterations (max_iter) or scale the data as shown in:\n",
      "    https://scikit-learn.org/stable/modules/preprocessing.html\n",
      "Please also refer to the documentation for alternative solver options:\n",
      "    https://scikit-learn.org/stable/modules/linear_model.html#logistic-regression\n",
      "  n_iter_i = _check_optimize_result(\n",
      "/opt/conda/lib/python3.10/site-packages/sklearn/linear_model/_logistic.py:458: ConvergenceWarning: lbfgs failed to converge (status=1):\n",
      "STOP: TOTAL NO. of ITERATIONS REACHED LIMIT.\n",
      "\n",
      "Increase the number of iterations (max_iter) or scale the data as shown in:\n",
      "    https://scikit-learn.org/stable/modules/preprocessing.html\n",
      "Please also refer to the documentation for alternative solver options:\n",
      "    https://scikit-learn.org/stable/modules/linear_model.html#logistic-regression\n",
      "  n_iter_i = _check_optimize_result(\n",
      "/opt/conda/lib/python3.10/site-packages/sklearn/linear_model/_logistic.py:458: ConvergenceWarning: lbfgs failed to converge (status=1):\n",
      "STOP: TOTAL NO. of ITERATIONS REACHED LIMIT.\n",
      "\n",
      "Increase the number of iterations (max_iter) or scale the data as shown in:\n",
      "    https://scikit-learn.org/stable/modules/preprocessing.html\n",
      "Please also refer to the documentation for alternative solver options:\n",
      "    https://scikit-learn.org/stable/modules/linear_model.html#logistic-regression\n",
      "  n_iter_i = _check_optimize_result(\n",
      "/opt/conda/lib/python3.10/site-packages/sklearn/linear_model/_logistic.py:458: ConvergenceWarning: lbfgs failed to converge (status=1):\n",
      "STOP: TOTAL NO. of ITERATIONS REACHED LIMIT.\n",
      "\n",
      "Increase the number of iterations (max_iter) or scale the data as shown in:\n",
      "    https://scikit-learn.org/stable/modules/preprocessing.html\n",
      "Please also refer to the documentation for alternative solver options:\n",
      "    https://scikit-learn.org/stable/modules/linear_model.html#logistic-regression\n",
      "  n_iter_i = _check_optimize_result(\n",
      "/opt/conda/lib/python3.10/site-packages/sklearn/linear_model/_logistic.py:458: ConvergenceWarning: lbfgs failed to converge (status=1):\n",
      "STOP: TOTAL NO. of ITERATIONS REACHED LIMIT.\n",
      "\n",
      "Increase the number of iterations (max_iter) or scale the data as shown in:\n",
      "    https://scikit-learn.org/stable/modules/preprocessing.html\n",
      "Please also refer to the documentation for alternative solver options:\n",
      "    https://scikit-learn.org/stable/modules/linear_model.html#logistic-regression\n",
      "  n_iter_i = _check_optimize_result(\n",
      "/opt/conda/lib/python3.10/site-packages/sklearn/linear_model/_logistic.py:458: ConvergenceWarning: lbfgs failed to converge (status=1):\n",
      "STOP: TOTAL NO. of ITERATIONS REACHED LIMIT.\n",
      "\n",
      "Increase the number of iterations (max_iter) or scale the data as shown in:\n",
      "    https://scikit-learn.org/stable/modules/preprocessing.html\n",
      "Please also refer to the documentation for alternative solver options:\n",
      "    https://scikit-learn.org/stable/modules/linear_model.html#logistic-regression\n",
      "  n_iter_i = _check_optimize_result(\n",
      "/opt/conda/lib/python3.10/site-packages/sklearn/linear_model/_logistic.py:458: ConvergenceWarning: lbfgs failed to converge (status=1):\n",
      "STOP: TOTAL NO. of ITERATIONS REACHED LIMIT.\n",
      "\n",
      "Increase the number of iterations (max_iter) or scale the data as shown in:\n",
      "    https://scikit-learn.org/stable/modules/preprocessing.html\n",
      "Please also refer to the documentation for alternative solver options:\n",
      "    https://scikit-learn.org/stable/modules/linear_model.html#logistic-regression\n",
      "  n_iter_i = _check_optimize_result(\n",
      "/opt/conda/lib/python3.10/site-packages/sklearn/linear_model/_logistic.py:458: ConvergenceWarning: lbfgs failed to converge (status=1):\n",
      "STOP: TOTAL NO. of ITERATIONS REACHED LIMIT.\n",
      "\n",
      "Increase the number of iterations (max_iter) or scale the data as shown in:\n",
      "    https://scikit-learn.org/stable/modules/preprocessing.html\n",
      "Please also refer to the documentation for alternative solver options:\n",
      "    https://scikit-learn.org/stable/modules/linear_model.html#logistic-regression\n",
      "  n_iter_i = _check_optimize_result(\n"
     ]
    },
    {
     "data": {
      "text/html": [
       "<style>#sk-container-id-1 {color: black;background-color: white;}#sk-container-id-1 pre{padding: 0;}#sk-container-id-1 div.sk-toggleable {background-color: white;}#sk-container-id-1 label.sk-toggleable__label {cursor: pointer;display: block;width: 100%;margin-bottom: 0;padding: 0.3em;box-sizing: border-box;text-align: center;}#sk-container-id-1 label.sk-toggleable__label-arrow:before {content: \"▸\";float: left;margin-right: 0.25em;color: #696969;}#sk-container-id-1 label.sk-toggleable__label-arrow:hover:before {color: black;}#sk-container-id-1 div.sk-estimator:hover label.sk-toggleable__label-arrow:before {color: black;}#sk-container-id-1 div.sk-toggleable__content {max-height: 0;max-width: 0;overflow: hidden;text-align: left;background-color: #f0f8ff;}#sk-container-id-1 div.sk-toggleable__content pre {margin: 0.2em;color: black;border-radius: 0.25em;background-color: #f0f8ff;}#sk-container-id-1 input.sk-toggleable__control:checked~div.sk-toggleable__content {max-height: 200px;max-width: 100%;overflow: auto;}#sk-container-id-1 input.sk-toggleable__control:checked~label.sk-toggleable__label-arrow:before {content: \"▾\";}#sk-container-id-1 div.sk-estimator input.sk-toggleable__control:checked~label.sk-toggleable__label {background-color: #d4ebff;}#sk-container-id-1 div.sk-label input.sk-toggleable__control:checked~label.sk-toggleable__label {background-color: #d4ebff;}#sk-container-id-1 input.sk-hidden--visually {border: 0;clip: rect(1px 1px 1px 1px);clip: rect(1px, 1px, 1px, 1px);height: 1px;margin: -1px;overflow: hidden;padding: 0;position: absolute;width: 1px;}#sk-container-id-1 div.sk-estimator {font-family: monospace;background-color: #f0f8ff;border: 1px dotted black;border-radius: 0.25em;box-sizing: border-box;margin-bottom: 0.5em;}#sk-container-id-1 div.sk-estimator:hover {background-color: #d4ebff;}#sk-container-id-1 div.sk-parallel-item::after {content: \"\";width: 100%;border-bottom: 1px solid gray;flex-grow: 1;}#sk-container-id-1 div.sk-label:hover label.sk-toggleable__label {background-color: #d4ebff;}#sk-container-id-1 div.sk-serial::before {content: \"\";position: absolute;border-left: 1px solid gray;box-sizing: border-box;top: 0;bottom: 0;left: 50%;z-index: 0;}#sk-container-id-1 div.sk-serial {display: flex;flex-direction: column;align-items: center;background-color: white;padding-right: 0.2em;padding-left: 0.2em;position: relative;}#sk-container-id-1 div.sk-item {position: relative;z-index: 1;}#sk-container-id-1 div.sk-parallel {display: flex;align-items: stretch;justify-content: center;background-color: white;position: relative;}#sk-container-id-1 div.sk-item::before, #sk-container-id-1 div.sk-parallel-item::before {content: \"\";position: absolute;border-left: 1px solid gray;box-sizing: border-box;top: 0;bottom: 0;left: 50%;z-index: -1;}#sk-container-id-1 div.sk-parallel-item {display: flex;flex-direction: column;z-index: 1;position: relative;background-color: white;}#sk-container-id-1 div.sk-parallel-item:first-child::after {align-self: flex-end;width: 50%;}#sk-container-id-1 div.sk-parallel-item:last-child::after {align-self: flex-start;width: 50%;}#sk-container-id-1 div.sk-parallel-item:only-child::after {width: 0;}#sk-container-id-1 div.sk-dashed-wrapped {border: 1px dashed gray;margin: 0 0.4em 0.5em 0.4em;box-sizing: border-box;padding-bottom: 0.4em;background-color: white;}#sk-container-id-1 div.sk-label label {font-family: monospace;font-weight: bold;display: inline-block;line-height: 1.2em;}#sk-container-id-1 div.sk-label-container {text-align: center;}#sk-container-id-1 div.sk-container {/* jupyter's `normalize.less` sets `[hidden] { display: none; }` but bootstrap.min.css set `[hidden] { display: none !important; }` so we also need the `!important` here to be able to override the default hidden behavior on the sphinx rendered scikit-learn.org. See: https://github.com/scikit-learn/scikit-learn/issues/21755 */display: inline-block !important;position: relative;}#sk-container-id-1 div.sk-text-repr-fallback {display: none;}</style><div id=\"sk-container-id-1\" class=\"sk-top-container\"><div class=\"sk-text-repr-fallback\"><pre>GridSearchCV(cv=5, estimator=LogisticRegression(), n_jobs=-1,\n",
       "             param_grid={&#x27;C&#x27;: [0.001, 0.01, 0.1, 1, 10, 100],\n",
       "                         &#x27;penalty&#x27;: [&#x27;l1&#x27;, &#x27;l2&#x27;]})</pre><b>In a Jupyter environment, please rerun this cell to show the HTML representation or trust the notebook. <br />On GitHub, the HTML representation is unable to render, please try loading this page with nbviewer.org.</b></div><div class=\"sk-container\" hidden><div class=\"sk-item sk-dashed-wrapped\"><div class=\"sk-label-container\"><div class=\"sk-label sk-toggleable\"><input class=\"sk-toggleable__control sk-hidden--visually\" id=\"sk-estimator-id-1\" type=\"checkbox\" ><label for=\"sk-estimator-id-1\" class=\"sk-toggleable__label sk-toggleable__label-arrow\">GridSearchCV</label><div class=\"sk-toggleable__content\"><pre>GridSearchCV(cv=5, estimator=LogisticRegression(), n_jobs=-1,\n",
       "             param_grid={&#x27;C&#x27;: [0.001, 0.01, 0.1, 1, 10, 100],\n",
       "                         &#x27;penalty&#x27;: [&#x27;l1&#x27;, &#x27;l2&#x27;]})</pre></div></div></div><div class=\"sk-parallel\"><div class=\"sk-parallel-item\"><div class=\"sk-item\"><div class=\"sk-label-container\"><div class=\"sk-label sk-toggleable\"><input class=\"sk-toggleable__control sk-hidden--visually\" id=\"sk-estimator-id-2\" type=\"checkbox\" ><label for=\"sk-estimator-id-2\" class=\"sk-toggleable__label sk-toggleable__label-arrow\">estimator: LogisticRegression</label><div class=\"sk-toggleable__content\"><pre>LogisticRegression()</pre></div></div></div><div class=\"sk-serial\"><div class=\"sk-item\"><div class=\"sk-estimator sk-toggleable\"><input class=\"sk-toggleable__control sk-hidden--visually\" id=\"sk-estimator-id-3\" type=\"checkbox\" ><label for=\"sk-estimator-id-3\" class=\"sk-toggleable__label sk-toggleable__label-arrow\">LogisticRegression</label><div class=\"sk-toggleable__content\"><pre>LogisticRegression()</pre></div></div></div></div></div></div></div></div></div></div>"
      ],
      "text/plain": [
       "GridSearchCV(cv=5, estimator=LogisticRegression(), n_jobs=-1,\n",
       "             param_grid={'C': [0.001, 0.01, 0.1, 1, 10, 100],\n",
       "                         'penalty': ['l1', 'l2']})"
      ]
     },
     "execution_count": 44,
     "metadata": {},
     "output_type": "execute_result"
    }
   ],
   "source": [
    "# fitting the preprocessed training data\n",
    "gridSearch.fit(x_transformed_1, y_train)"
   ]
  },
  {
   "cell_type": "code",
   "execution_count": 45,
   "id": "e71ece7f",
   "metadata": {
    "execution": {
     "iopub.execute_input": "2023-08-13T17:36:40.056250Z",
     "iopub.status.busy": "2023-08-13T17:36:40.055764Z",
     "iopub.status.idle": "2023-08-13T17:36:40.061534Z",
     "shell.execute_reply": "2023-08-13T17:36:40.060263Z"
    },
    "papermill": {
     "duration": 0.047599,
     "end_time": "2023-08-13T17:36:40.064103",
     "exception": false,
     "start_time": "2023-08-13T17:36:40.016504",
     "status": "completed"
    },
    "tags": []
   },
   "outputs": [],
   "source": [
    "# checking for the best hyperparameters for prediction\n",
    "best_params = gridSearch.best_params_"
   ]
  },
  {
   "cell_type": "code",
   "execution_count": 46,
   "id": "830d8049",
   "metadata": {
    "execution": {
     "iopub.execute_input": "2023-08-13T17:36:40.142559Z",
     "iopub.status.busy": "2023-08-13T17:36:40.142138Z",
     "iopub.status.idle": "2023-08-13T17:36:40.147168Z",
     "shell.execute_reply": "2023-08-13T17:36:40.145981Z"
    },
    "papermill": {
     "duration": 0.046529,
     "end_time": "2023-08-13T17:36:40.149544",
     "exception": false,
     "start_time": "2023-08-13T17:36:40.103015",
     "status": "completed"
    },
    "tags": []
   },
   "outputs": [],
   "source": [
    "# initialize new logistic regression model with the best hyperparameters chosen \n",
    "new_lr = LogisticRegression(**best_params, random_state=42)"
   ]
  },
  {
   "cell_type": "code",
   "execution_count": 47,
   "id": "e2f60495",
   "metadata": {
    "execution": {
     "iopub.execute_input": "2023-08-13T17:36:40.228447Z",
     "iopub.status.busy": "2023-08-13T17:36:40.228049Z",
     "iopub.status.idle": "2023-08-13T17:36:50.569294Z",
     "shell.execute_reply": "2023-08-13T17:36:50.567701Z"
    },
    "papermill": {
     "duration": 10.385587,
     "end_time": "2023-08-13T17:36:50.573444",
     "exception": false,
     "start_time": "2023-08-13T17:36:40.187857",
     "status": "completed"
    },
    "tags": []
   },
   "outputs": [
    {
     "data": {
      "text/html": [
       "<style>#sk-container-id-2 {color: black;background-color: white;}#sk-container-id-2 pre{padding: 0;}#sk-container-id-2 div.sk-toggleable {background-color: white;}#sk-container-id-2 label.sk-toggleable__label {cursor: pointer;display: block;width: 100%;margin-bottom: 0;padding: 0.3em;box-sizing: border-box;text-align: center;}#sk-container-id-2 label.sk-toggleable__label-arrow:before {content: \"▸\";float: left;margin-right: 0.25em;color: #696969;}#sk-container-id-2 label.sk-toggleable__label-arrow:hover:before {color: black;}#sk-container-id-2 div.sk-estimator:hover label.sk-toggleable__label-arrow:before {color: black;}#sk-container-id-2 div.sk-toggleable__content {max-height: 0;max-width: 0;overflow: hidden;text-align: left;background-color: #f0f8ff;}#sk-container-id-2 div.sk-toggleable__content pre {margin: 0.2em;color: black;border-radius: 0.25em;background-color: #f0f8ff;}#sk-container-id-2 input.sk-toggleable__control:checked~div.sk-toggleable__content {max-height: 200px;max-width: 100%;overflow: auto;}#sk-container-id-2 input.sk-toggleable__control:checked~label.sk-toggleable__label-arrow:before {content: \"▾\";}#sk-container-id-2 div.sk-estimator input.sk-toggleable__control:checked~label.sk-toggleable__label {background-color: #d4ebff;}#sk-container-id-2 div.sk-label input.sk-toggleable__control:checked~label.sk-toggleable__label {background-color: #d4ebff;}#sk-container-id-2 input.sk-hidden--visually {border: 0;clip: rect(1px 1px 1px 1px);clip: rect(1px, 1px, 1px, 1px);height: 1px;margin: -1px;overflow: hidden;padding: 0;position: absolute;width: 1px;}#sk-container-id-2 div.sk-estimator {font-family: monospace;background-color: #f0f8ff;border: 1px dotted black;border-radius: 0.25em;box-sizing: border-box;margin-bottom: 0.5em;}#sk-container-id-2 div.sk-estimator:hover {background-color: #d4ebff;}#sk-container-id-2 div.sk-parallel-item::after {content: \"\";width: 100%;border-bottom: 1px solid gray;flex-grow: 1;}#sk-container-id-2 div.sk-label:hover label.sk-toggleable__label {background-color: #d4ebff;}#sk-container-id-2 div.sk-serial::before {content: \"\";position: absolute;border-left: 1px solid gray;box-sizing: border-box;top: 0;bottom: 0;left: 50%;z-index: 0;}#sk-container-id-2 div.sk-serial {display: flex;flex-direction: column;align-items: center;background-color: white;padding-right: 0.2em;padding-left: 0.2em;position: relative;}#sk-container-id-2 div.sk-item {position: relative;z-index: 1;}#sk-container-id-2 div.sk-parallel {display: flex;align-items: stretch;justify-content: center;background-color: white;position: relative;}#sk-container-id-2 div.sk-item::before, #sk-container-id-2 div.sk-parallel-item::before {content: \"\";position: absolute;border-left: 1px solid gray;box-sizing: border-box;top: 0;bottom: 0;left: 50%;z-index: -1;}#sk-container-id-2 div.sk-parallel-item {display: flex;flex-direction: column;z-index: 1;position: relative;background-color: white;}#sk-container-id-2 div.sk-parallel-item:first-child::after {align-self: flex-end;width: 50%;}#sk-container-id-2 div.sk-parallel-item:last-child::after {align-self: flex-start;width: 50%;}#sk-container-id-2 div.sk-parallel-item:only-child::after {width: 0;}#sk-container-id-2 div.sk-dashed-wrapped {border: 1px dashed gray;margin: 0 0.4em 0.5em 0.4em;box-sizing: border-box;padding-bottom: 0.4em;background-color: white;}#sk-container-id-2 div.sk-label label {font-family: monospace;font-weight: bold;display: inline-block;line-height: 1.2em;}#sk-container-id-2 div.sk-label-container {text-align: center;}#sk-container-id-2 div.sk-container {/* jupyter's `normalize.less` sets `[hidden] { display: none; }` but bootstrap.min.css set `[hidden] { display: none !important; }` so we also need the `!important` here to be able to override the default hidden behavior on the sphinx rendered scikit-learn.org. See: https://github.com/scikit-learn/scikit-learn/issues/21755 */display: inline-block !important;position: relative;}#sk-container-id-2 div.sk-text-repr-fallback {display: none;}</style><div id=\"sk-container-id-2\" class=\"sk-top-container\"><div class=\"sk-text-repr-fallback\"><pre>LogisticRegression(C=10, random_state=42)</pre><b>In a Jupyter environment, please rerun this cell to show the HTML representation or trust the notebook. <br />On GitHub, the HTML representation is unable to render, please try loading this page with nbviewer.org.</b></div><div class=\"sk-container\" hidden><div class=\"sk-item\"><div class=\"sk-estimator sk-toggleable\"><input class=\"sk-toggleable__control sk-hidden--visually\" id=\"sk-estimator-id-4\" type=\"checkbox\" checked><label for=\"sk-estimator-id-4\" class=\"sk-toggleable__label sk-toggleable__label-arrow\">LogisticRegression</label><div class=\"sk-toggleable__content\"><pre>LogisticRegression(C=10, random_state=42)</pre></div></div></div></div></div>"
      ],
      "text/plain": [
       "LogisticRegression(C=10, random_state=42)"
      ]
     },
     "execution_count": 47,
     "metadata": {},
     "output_type": "execute_result"
    }
   ],
   "source": [
    "# fitting the chosen hyperparameters on training data\n",
    "new_lr.fit(x_transformed_1, y_train)"
   ]
  },
  {
   "cell_type": "code",
   "execution_count": 48,
   "id": "d0ee243e",
   "metadata": {
    "execution": {
     "iopub.execute_input": "2023-08-13T17:36:50.703365Z",
     "iopub.status.busy": "2023-08-13T17:36:50.702985Z",
     "iopub.status.idle": "2023-08-13T17:36:50.712371Z",
     "shell.execute_reply": "2023-08-13T17:36:50.711536Z"
    },
    "papermill": {
     "duration": 0.051404,
     "end_time": "2023-08-13T17:36:50.714740",
     "exception": false,
     "start_time": "2023-08-13T17:36:50.663336",
     "status": "completed"
    },
    "tags": []
   },
   "outputs": [],
   "source": [
    "# predicting the new model on validation data\n",
    "y_pred = new_lr.predict(X_val_1)"
   ]
  },
  {
   "cell_type": "code",
   "execution_count": 49,
   "id": "057451e0",
   "metadata": {
    "execution": {
     "iopub.execute_input": "2023-08-13T17:36:50.798732Z",
     "iopub.status.busy": "2023-08-13T17:36:50.798135Z",
     "iopub.status.idle": "2023-08-13T17:36:50.984732Z",
     "shell.execute_reply": "2023-08-13T17:36:50.983288Z"
    },
    "papermill": {
     "duration": 0.23166,
     "end_time": "2023-08-13T17:36:50.987439",
     "exception": false,
     "start_time": "2023-08-13T17:36:50.755779",
     "status": "completed"
    },
    "tags": []
   },
   "outputs": [
    {
     "name": "stdout",
     "output_type": "stream",
     "text": [
      "Accuracy score of LOGISTIC REGRESSION model :  0.8110838043745392\n"
     ]
    }
   ],
   "source": [
    "print(\"Accuracy score of LOGISTIC REGRESSION model : \",accuracy_score(y_val, y_pred))"
   ]
  },
  {
   "cell_type": "code",
   "execution_count": 50,
   "id": "0396c8c5",
   "metadata": {
    "execution": {
     "iopub.execute_input": "2023-08-13T17:36:51.066997Z",
     "iopub.status.busy": "2023-08-13T17:36:51.066405Z",
     "iopub.status.idle": "2023-08-13T17:36:51.835396Z",
     "shell.execute_reply": "2023-08-13T17:36:51.834138Z"
    },
    "papermill": {
     "duration": 0.811731,
     "end_time": "2023-08-13T17:36:51.837808",
     "exception": false,
     "start_time": "2023-08-13T17:36:51.026077",
     "status": "completed"
    },
    "tags": []
   },
   "outputs": [
    {
     "name": "stdout",
     "output_type": "stream",
     "text": [
      "f1 score of LOGISTIC REGRESSION model :  0.8634563120592571\n"
     ]
    }
   ],
   "source": [
    "print(\"f1 score of LOGISTIC REGRESSION model : \",f1_score(y_val, y_pred, pos_label='POSITIVE'))"
   ]
  },
  {
   "cell_type": "code",
   "execution_count": 51,
   "id": "8e7150ee",
   "metadata": {
    "execution": {
     "iopub.execute_input": "2023-08-13T17:36:51.916922Z",
     "iopub.status.busy": "2023-08-13T17:36:51.916318Z",
     "iopub.status.idle": "2023-08-13T17:36:55.422052Z",
     "shell.execute_reply": "2023-08-13T17:36:55.420871Z"
    },
    "papermill": {
     "duration": 3.548515,
     "end_time": "2023-08-13T17:36:55.424884",
     "exception": false,
     "start_time": "2023-08-13T17:36:51.876369",
     "status": "completed"
    },
    "tags": []
   },
   "outputs": [
    {
     "name": "stdout",
     "output_type": "stream",
     "text": [
      "Classifcation report of LOGISTIC REGRESSION model : \n",
      "              precision    recall  f1-score   support\n",
      "\n",
      "    NEGATIVE       0.75      0.65      0.69     13430\n",
      "    POSITIVE       0.84      0.89      0.86     27260\n",
      "\n",
      "    accuracy                           0.81     40690\n",
      "   macro avg       0.79      0.77      0.78     40690\n",
      "weighted avg       0.81      0.81      0.81     40690\n",
      "\n"
     ]
    }
   ],
   "source": [
    "print(\"Classifcation report of LOGISTIC REGRESSION model : \")\n",
    "print(classification_report(y_val, y_pred))"
   ]
  },
  {
   "cell_type": "markdown",
   "id": "05b5355e",
   "metadata": {
    "papermill": {
     "duration": 0.039902,
     "end_time": "2023-08-13T17:36:55.503596",
     "exception": false,
     "start_time": "2023-08-13T17:36:55.463694",
     "status": "completed"
    },
    "tags": []
   },
   "source": [
    "**LINEAR SVC MODEL**"
   ]
  },
  {
   "cell_type": "code",
   "execution_count": 52,
   "id": "529c30c7",
   "metadata": {
    "execution": {
     "iopub.execute_input": "2023-08-13T17:36:55.583632Z",
     "iopub.status.busy": "2023-08-13T17:36:55.583224Z",
     "iopub.status.idle": "2023-08-13T17:36:55.588524Z",
     "shell.execute_reply": "2023-08-13T17:36:55.587301Z"
    },
    "papermill": {
     "duration": 0.048804,
     "end_time": "2023-08-13T17:36:55.591114",
     "exception": false,
     "start_time": "2023-08-13T17:36:55.542310",
     "status": "completed"
    },
    "tags": []
   },
   "outputs": [],
   "source": [
    "# Create a LinearSVC classifier\n",
    "svc = LinearSVC()"
   ]
  },
  {
   "cell_type": "code",
   "execution_count": 53,
   "id": "93b3c9ef",
   "metadata": {
    "execution": {
     "iopub.execute_input": "2023-08-13T17:36:55.673295Z",
     "iopub.status.busy": "2023-08-13T17:36:55.672549Z",
     "iopub.status.idle": "2023-08-13T17:36:55.678662Z",
     "shell.execute_reply": "2023-08-13T17:36:55.677039Z"
    },
    "papermill": {
     "duration": 0.050467,
     "end_time": "2023-08-13T17:36:55.681486",
     "exception": false,
     "start_time": "2023-08-13T17:36:55.631019",
     "status": "completed"
    },
    "tags": []
   },
   "outputs": [],
   "source": [
    "# defining param grid for the logistic regression model which can be used to fit the training data\n",
    "param_grid = {\n",
    "    'C': [0.01, 0.1, 1, 10],        \n",
    "    'max_iter': [100, 500],        \n",
    "    'fit_intercept': [True, False]\n",
    "}"
   ]
  },
  {
   "cell_type": "code",
   "execution_count": 54,
   "id": "e8472bf3",
   "metadata": {
    "execution": {
     "iopub.execute_input": "2023-08-13T17:36:55.763217Z",
     "iopub.status.busy": "2023-08-13T17:36:55.762480Z",
     "iopub.status.idle": "2023-08-13T17:36:55.766727Z",
     "shell.execute_reply": "2023-08-13T17:36:55.766013Z"
    },
    "papermill": {
     "duration": 0.046936,
     "end_time": "2023-08-13T17:36:55.769042",
     "exception": false,
     "start_time": "2023-08-13T17:36:55.722106",
     "status": "completed"
    },
    "tags": []
   },
   "outputs": [],
   "source": [
    "# initialize GridSearchCV with LINEAR SVC estimator and its defined parameters\n",
    "grid_search = GridSearchCV(estimator=svc, param_grid=param_grid, cv=5, n_jobs=-1)"
   ]
  },
  {
   "cell_type": "code",
   "execution_count": 55,
   "id": "b514736f",
   "metadata": {
    "execution": {
     "iopub.execute_input": "2023-08-13T17:36:55.850206Z",
     "iopub.status.busy": "2023-08-13T17:36:55.849598Z",
     "iopub.status.idle": "2023-08-13T17:41:21.535189Z",
     "shell.execute_reply": "2023-08-13T17:41:21.534036Z"
    },
    "papermill": {
     "duration": 265.730292,
     "end_time": "2023-08-13T17:41:21.538526",
     "exception": false,
     "start_time": "2023-08-13T17:36:55.808234",
     "status": "completed"
    },
    "tags": []
   },
   "outputs": [
    {
     "name": "stderr",
     "output_type": "stream",
     "text": [
      "/opt/conda/lib/python3.10/site-packages/sklearn/svm/_base.py:1244: ConvergenceWarning: Liblinear failed to converge, increase the number of iterations.\n",
      "  warnings.warn(\n",
      "/opt/conda/lib/python3.10/site-packages/sklearn/svm/_base.py:1244: ConvergenceWarning: Liblinear failed to converge, increase the number of iterations.\n",
      "  warnings.warn(\n",
      "/opt/conda/lib/python3.10/site-packages/sklearn/svm/_base.py:1244: ConvergenceWarning: Liblinear failed to converge, increase the number of iterations.\n",
      "  warnings.warn(\n",
      "/opt/conda/lib/python3.10/site-packages/sklearn/svm/_base.py:1244: ConvergenceWarning: Liblinear failed to converge, increase the number of iterations.\n",
      "  warnings.warn(\n",
      "/opt/conda/lib/python3.10/site-packages/sklearn/svm/_base.py:1244: ConvergenceWarning: Liblinear failed to converge, increase the number of iterations.\n",
      "  warnings.warn(\n",
      "/opt/conda/lib/python3.10/site-packages/sklearn/svm/_base.py:1244: ConvergenceWarning: Liblinear failed to converge, increase the number of iterations.\n",
      "  warnings.warn(\n",
      "/opt/conda/lib/python3.10/site-packages/sklearn/svm/_base.py:1244: ConvergenceWarning: Liblinear failed to converge, increase the number of iterations.\n",
      "  warnings.warn(\n",
      "/opt/conda/lib/python3.10/site-packages/sklearn/svm/_base.py:1244: ConvergenceWarning: Liblinear failed to converge, increase the number of iterations.\n",
      "  warnings.warn(\n",
      "/opt/conda/lib/python3.10/site-packages/sklearn/svm/_base.py:1244: ConvergenceWarning: Liblinear failed to converge, increase the number of iterations.\n",
      "  warnings.warn(\n",
      "/opt/conda/lib/python3.10/site-packages/sklearn/svm/_base.py:1244: ConvergenceWarning: Liblinear failed to converge, increase the number of iterations.\n",
      "  warnings.warn(\n",
      "/opt/conda/lib/python3.10/site-packages/sklearn/svm/_base.py:1244: ConvergenceWarning: Liblinear failed to converge, increase the number of iterations.\n",
      "  warnings.warn(\n",
      "/opt/conda/lib/python3.10/site-packages/sklearn/svm/_base.py:1244: ConvergenceWarning: Liblinear failed to converge, increase the number of iterations.\n",
      "  warnings.warn(\n",
      "/opt/conda/lib/python3.10/site-packages/sklearn/svm/_base.py:1244: ConvergenceWarning: Liblinear failed to converge, increase the number of iterations.\n",
      "  warnings.warn(\n",
      "/opt/conda/lib/python3.10/site-packages/sklearn/svm/_base.py:1244: ConvergenceWarning: Liblinear failed to converge, increase the number of iterations.\n",
      "  warnings.warn(\n",
      "/opt/conda/lib/python3.10/site-packages/sklearn/svm/_base.py:1244: ConvergenceWarning: Liblinear failed to converge, increase the number of iterations.\n",
      "  warnings.warn(\n",
      "/opt/conda/lib/python3.10/site-packages/sklearn/svm/_base.py:1244: ConvergenceWarning: Liblinear failed to converge, increase the number of iterations.\n",
      "  warnings.warn(\n",
      "/opt/conda/lib/python3.10/site-packages/sklearn/svm/_base.py:1244: ConvergenceWarning: Liblinear failed to converge, increase the number of iterations.\n",
      "  warnings.warn(\n",
      "/opt/conda/lib/python3.10/site-packages/sklearn/svm/_base.py:1244: ConvergenceWarning: Liblinear failed to converge, increase the number of iterations.\n",
      "  warnings.warn(\n",
      "/opt/conda/lib/python3.10/site-packages/sklearn/svm/_base.py:1244: ConvergenceWarning: Liblinear failed to converge, increase the number of iterations.\n",
      "  warnings.warn(\n",
      "/opt/conda/lib/python3.10/site-packages/sklearn/svm/_base.py:1244: ConvergenceWarning: Liblinear failed to converge, increase the number of iterations.\n",
      "  warnings.warn(\n",
      "/opt/conda/lib/python3.10/site-packages/sklearn/svm/_base.py:1244: ConvergenceWarning: Liblinear failed to converge, increase the number of iterations.\n",
      "  warnings.warn(\n",
      "/opt/conda/lib/python3.10/site-packages/sklearn/svm/_base.py:1244: ConvergenceWarning: Liblinear failed to converge, increase the number of iterations.\n",
      "  warnings.warn(\n",
      "/opt/conda/lib/python3.10/site-packages/sklearn/svm/_base.py:1244: ConvergenceWarning: Liblinear failed to converge, increase the number of iterations.\n",
      "  warnings.warn(\n",
      "/opt/conda/lib/python3.10/site-packages/sklearn/svm/_base.py:1244: ConvergenceWarning: Liblinear failed to converge, increase the number of iterations.\n",
      "  warnings.warn(\n",
      "/opt/conda/lib/python3.10/site-packages/sklearn/svm/_base.py:1244: ConvergenceWarning: Liblinear failed to converge, increase the number of iterations.\n",
      "  warnings.warn(\n",
      "/opt/conda/lib/python3.10/site-packages/sklearn/svm/_base.py:1244: ConvergenceWarning: Liblinear failed to converge, increase the number of iterations.\n",
      "  warnings.warn(\n",
      "/opt/conda/lib/python3.10/site-packages/sklearn/svm/_base.py:1244: ConvergenceWarning: Liblinear failed to converge, increase the number of iterations.\n",
      "  warnings.warn(\n",
      "/opt/conda/lib/python3.10/site-packages/sklearn/svm/_base.py:1244: ConvergenceWarning: Liblinear failed to converge, increase the number of iterations.\n",
      "  warnings.warn(\n",
      "/opt/conda/lib/python3.10/site-packages/sklearn/svm/_base.py:1244: ConvergenceWarning: Liblinear failed to converge, increase the number of iterations.\n",
      "  warnings.warn(\n",
      "/opt/conda/lib/python3.10/site-packages/sklearn/svm/_base.py:1244: ConvergenceWarning: Liblinear failed to converge, increase the number of iterations.\n",
      "  warnings.warn(\n",
      "/opt/conda/lib/python3.10/site-packages/sklearn/svm/_base.py:1244: ConvergenceWarning: Liblinear failed to converge, increase the number of iterations.\n",
      "  warnings.warn(\n",
      "/opt/conda/lib/python3.10/site-packages/sklearn/svm/_base.py:1244: ConvergenceWarning: Liblinear failed to converge, increase the number of iterations.\n",
      "  warnings.warn(\n",
      "/opt/conda/lib/python3.10/site-packages/sklearn/svm/_base.py:1244: ConvergenceWarning: Liblinear failed to converge, increase the number of iterations.\n",
      "  warnings.warn(\n",
      "/opt/conda/lib/python3.10/site-packages/sklearn/svm/_base.py:1244: ConvergenceWarning: Liblinear failed to converge, increase the number of iterations.\n",
      "  warnings.warn(\n",
      "/opt/conda/lib/python3.10/site-packages/sklearn/svm/_base.py:1244: ConvergenceWarning: Liblinear failed to converge, increase the number of iterations.\n",
      "  warnings.warn(\n",
      "/opt/conda/lib/python3.10/site-packages/sklearn/svm/_base.py:1244: ConvergenceWarning: Liblinear failed to converge, increase the number of iterations.\n",
      "  warnings.warn(\n",
      "/opt/conda/lib/python3.10/site-packages/sklearn/svm/_base.py:1244: ConvergenceWarning: Liblinear failed to converge, increase the number of iterations.\n",
      "  warnings.warn(\n",
      "/opt/conda/lib/python3.10/site-packages/sklearn/svm/_base.py:1244: ConvergenceWarning: Liblinear failed to converge, increase the number of iterations.\n",
      "  warnings.warn(\n",
      "/opt/conda/lib/python3.10/site-packages/sklearn/svm/_base.py:1244: ConvergenceWarning: Liblinear failed to converge, increase the number of iterations.\n",
      "  warnings.warn(\n",
      "/opt/conda/lib/python3.10/site-packages/sklearn/svm/_base.py:1244: ConvergenceWarning: Liblinear failed to converge, increase the number of iterations.\n",
      "  warnings.warn(\n",
      "/opt/conda/lib/python3.10/site-packages/sklearn/svm/_base.py:1244: ConvergenceWarning: Liblinear failed to converge, increase the number of iterations.\n",
      "  warnings.warn(\n",
      "/opt/conda/lib/python3.10/site-packages/sklearn/svm/_base.py:1244: ConvergenceWarning: Liblinear failed to converge, increase the number of iterations.\n",
      "  warnings.warn(\n",
      "/opt/conda/lib/python3.10/site-packages/sklearn/svm/_base.py:1244: ConvergenceWarning: Liblinear failed to converge, increase the number of iterations.\n",
      "  warnings.warn(\n",
      "/opt/conda/lib/python3.10/site-packages/sklearn/svm/_base.py:1244: ConvergenceWarning: Liblinear failed to converge, increase the number of iterations.\n",
      "  warnings.warn(\n",
      "/opt/conda/lib/python3.10/site-packages/sklearn/svm/_base.py:1244: ConvergenceWarning: Liblinear failed to converge, increase the number of iterations.\n",
      "  warnings.warn(\n",
      "/opt/conda/lib/python3.10/site-packages/sklearn/svm/_base.py:1244: ConvergenceWarning: Liblinear failed to converge, increase the number of iterations.\n",
      "  warnings.warn(\n",
      "/opt/conda/lib/python3.10/site-packages/sklearn/svm/_base.py:1244: ConvergenceWarning: Liblinear failed to converge, increase the number of iterations.\n",
      "  warnings.warn(\n",
      "/opt/conda/lib/python3.10/site-packages/sklearn/svm/_base.py:1244: ConvergenceWarning: Liblinear failed to converge, increase the number of iterations.\n",
      "  warnings.warn(\n",
      "/opt/conda/lib/python3.10/site-packages/sklearn/svm/_base.py:1244: ConvergenceWarning: Liblinear failed to converge, increase the number of iterations.\n",
      "  warnings.warn(\n",
      "/opt/conda/lib/python3.10/site-packages/sklearn/svm/_base.py:1244: ConvergenceWarning: Liblinear failed to converge, increase the number of iterations.\n",
      "  warnings.warn(\n",
      "/opt/conda/lib/python3.10/site-packages/sklearn/svm/_base.py:1244: ConvergenceWarning: Liblinear failed to converge, increase the number of iterations.\n",
      "  warnings.warn(\n",
      "/opt/conda/lib/python3.10/site-packages/sklearn/svm/_base.py:1244: ConvergenceWarning: Liblinear failed to converge, increase the number of iterations.\n",
      "  warnings.warn(\n",
      "/opt/conda/lib/python3.10/site-packages/sklearn/svm/_base.py:1244: ConvergenceWarning: Liblinear failed to converge, increase the number of iterations.\n",
      "  warnings.warn(\n",
      "/opt/conda/lib/python3.10/site-packages/sklearn/svm/_base.py:1244: ConvergenceWarning: Liblinear failed to converge, increase the number of iterations.\n",
      "  warnings.warn(\n",
      "/opt/conda/lib/python3.10/site-packages/sklearn/svm/_base.py:1244: ConvergenceWarning: Liblinear failed to converge, increase the number of iterations.\n",
      "  warnings.warn(\n",
      "/opt/conda/lib/python3.10/site-packages/sklearn/svm/_base.py:1244: ConvergenceWarning: Liblinear failed to converge, increase the number of iterations.\n",
      "  warnings.warn(\n",
      "/opt/conda/lib/python3.10/site-packages/sklearn/svm/_base.py:1244: ConvergenceWarning: Liblinear failed to converge, increase the number of iterations.\n",
      "  warnings.warn(\n",
      "/opt/conda/lib/python3.10/site-packages/sklearn/svm/_base.py:1244: ConvergenceWarning: Liblinear failed to converge, increase the number of iterations.\n",
      "  warnings.warn(\n",
      "/opt/conda/lib/python3.10/site-packages/sklearn/svm/_base.py:1244: ConvergenceWarning: Liblinear failed to converge, increase the number of iterations.\n",
      "  warnings.warn(\n",
      "/opt/conda/lib/python3.10/site-packages/sklearn/svm/_base.py:1244: ConvergenceWarning: Liblinear failed to converge, increase the number of iterations.\n",
      "  warnings.warn(\n"
     ]
    },
    {
     "data": {
      "text/html": [
       "<style>#sk-container-id-3 {color: black;background-color: white;}#sk-container-id-3 pre{padding: 0;}#sk-container-id-3 div.sk-toggleable {background-color: white;}#sk-container-id-3 label.sk-toggleable__label {cursor: pointer;display: block;width: 100%;margin-bottom: 0;padding: 0.3em;box-sizing: border-box;text-align: center;}#sk-container-id-3 label.sk-toggleable__label-arrow:before {content: \"▸\";float: left;margin-right: 0.25em;color: #696969;}#sk-container-id-3 label.sk-toggleable__label-arrow:hover:before {color: black;}#sk-container-id-3 div.sk-estimator:hover label.sk-toggleable__label-arrow:before {color: black;}#sk-container-id-3 div.sk-toggleable__content {max-height: 0;max-width: 0;overflow: hidden;text-align: left;background-color: #f0f8ff;}#sk-container-id-3 div.sk-toggleable__content pre {margin: 0.2em;color: black;border-radius: 0.25em;background-color: #f0f8ff;}#sk-container-id-3 input.sk-toggleable__control:checked~div.sk-toggleable__content {max-height: 200px;max-width: 100%;overflow: auto;}#sk-container-id-3 input.sk-toggleable__control:checked~label.sk-toggleable__label-arrow:before {content: \"▾\";}#sk-container-id-3 div.sk-estimator input.sk-toggleable__control:checked~label.sk-toggleable__label {background-color: #d4ebff;}#sk-container-id-3 div.sk-label input.sk-toggleable__control:checked~label.sk-toggleable__label {background-color: #d4ebff;}#sk-container-id-3 input.sk-hidden--visually {border: 0;clip: rect(1px 1px 1px 1px);clip: rect(1px, 1px, 1px, 1px);height: 1px;margin: -1px;overflow: hidden;padding: 0;position: absolute;width: 1px;}#sk-container-id-3 div.sk-estimator {font-family: monospace;background-color: #f0f8ff;border: 1px dotted black;border-radius: 0.25em;box-sizing: border-box;margin-bottom: 0.5em;}#sk-container-id-3 div.sk-estimator:hover {background-color: #d4ebff;}#sk-container-id-3 div.sk-parallel-item::after {content: \"\";width: 100%;border-bottom: 1px solid gray;flex-grow: 1;}#sk-container-id-3 div.sk-label:hover label.sk-toggleable__label {background-color: #d4ebff;}#sk-container-id-3 div.sk-serial::before {content: \"\";position: absolute;border-left: 1px solid gray;box-sizing: border-box;top: 0;bottom: 0;left: 50%;z-index: 0;}#sk-container-id-3 div.sk-serial {display: flex;flex-direction: column;align-items: center;background-color: white;padding-right: 0.2em;padding-left: 0.2em;position: relative;}#sk-container-id-3 div.sk-item {position: relative;z-index: 1;}#sk-container-id-3 div.sk-parallel {display: flex;align-items: stretch;justify-content: center;background-color: white;position: relative;}#sk-container-id-3 div.sk-item::before, #sk-container-id-3 div.sk-parallel-item::before {content: \"\";position: absolute;border-left: 1px solid gray;box-sizing: border-box;top: 0;bottom: 0;left: 50%;z-index: -1;}#sk-container-id-3 div.sk-parallel-item {display: flex;flex-direction: column;z-index: 1;position: relative;background-color: white;}#sk-container-id-3 div.sk-parallel-item:first-child::after {align-self: flex-end;width: 50%;}#sk-container-id-3 div.sk-parallel-item:last-child::after {align-self: flex-start;width: 50%;}#sk-container-id-3 div.sk-parallel-item:only-child::after {width: 0;}#sk-container-id-3 div.sk-dashed-wrapped {border: 1px dashed gray;margin: 0 0.4em 0.5em 0.4em;box-sizing: border-box;padding-bottom: 0.4em;background-color: white;}#sk-container-id-3 div.sk-label label {font-family: monospace;font-weight: bold;display: inline-block;line-height: 1.2em;}#sk-container-id-3 div.sk-label-container {text-align: center;}#sk-container-id-3 div.sk-container {/* jupyter's `normalize.less` sets `[hidden] { display: none; }` but bootstrap.min.css set `[hidden] { display: none !important; }` so we also need the `!important` here to be able to override the default hidden behavior on the sphinx rendered scikit-learn.org. See: https://github.com/scikit-learn/scikit-learn/issues/21755 */display: inline-block !important;position: relative;}#sk-container-id-3 div.sk-text-repr-fallback {display: none;}</style><div id=\"sk-container-id-3\" class=\"sk-top-container\"><div class=\"sk-text-repr-fallback\"><pre>GridSearchCV(cv=5, estimator=LinearSVC(), n_jobs=-1,\n",
       "             param_grid={&#x27;C&#x27;: [0.01, 0.1, 1, 10],\n",
       "                         &#x27;fit_intercept&#x27;: [True, False],\n",
       "                         &#x27;max_iter&#x27;: [100, 500]})</pre><b>In a Jupyter environment, please rerun this cell to show the HTML representation or trust the notebook. <br />On GitHub, the HTML representation is unable to render, please try loading this page with nbviewer.org.</b></div><div class=\"sk-container\" hidden><div class=\"sk-item sk-dashed-wrapped\"><div class=\"sk-label-container\"><div class=\"sk-label sk-toggleable\"><input class=\"sk-toggleable__control sk-hidden--visually\" id=\"sk-estimator-id-5\" type=\"checkbox\" ><label for=\"sk-estimator-id-5\" class=\"sk-toggleable__label sk-toggleable__label-arrow\">GridSearchCV</label><div class=\"sk-toggleable__content\"><pre>GridSearchCV(cv=5, estimator=LinearSVC(), n_jobs=-1,\n",
       "             param_grid={&#x27;C&#x27;: [0.01, 0.1, 1, 10],\n",
       "                         &#x27;fit_intercept&#x27;: [True, False],\n",
       "                         &#x27;max_iter&#x27;: [100, 500]})</pre></div></div></div><div class=\"sk-parallel\"><div class=\"sk-parallel-item\"><div class=\"sk-item\"><div class=\"sk-label-container\"><div class=\"sk-label sk-toggleable\"><input class=\"sk-toggleable__control sk-hidden--visually\" id=\"sk-estimator-id-6\" type=\"checkbox\" ><label for=\"sk-estimator-id-6\" class=\"sk-toggleable__label sk-toggleable__label-arrow\">estimator: LinearSVC</label><div class=\"sk-toggleable__content\"><pre>LinearSVC()</pre></div></div></div><div class=\"sk-serial\"><div class=\"sk-item\"><div class=\"sk-estimator sk-toggleable\"><input class=\"sk-toggleable__control sk-hidden--visually\" id=\"sk-estimator-id-7\" type=\"checkbox\" ><label for=\"sk-estimator-id-7\" class=\"sk-toggleable__label sk-toggleable__label-arrow\">LinearSVC</label><div class=\"sk-toggleable__content\"><pre>LinearSVC()</pre></div></div></div></div></div></div></div></div></div></div>"
      ],
      "text/plain": [
       "GridSearchCV(cv=5, estimator=LinearSVC(), n_jobs=-1,\n",
       "             param_grid={'C': [0.01, 0.1, 1, 10],\n",
       "                         'fit_intercept': [True, False],\n",
       "                         'max_iter': [100, 500]})"
      ]
     },
     "execution_count": 55,
     "metadata": {},
     "output_type": "execute_result"
    }
   ],
   "source": [
    "# fitting the preprocessed training data\n",
    "grid_search.fit(x_transformed_1, y_train)"
   ]
  },
  {
   "cell_type": "code",
   "execution_count": 56,
   "id": "1c9d128a",
   "metadata": {
    "execution": {
     "iopub.execute_input": "2023-08-13T17:41:21.632912Z",
     "iopub.status.busy": "2023-08-13T17:41:21.632383Z",
     "iopub.status.idle": "2023-08-13T17:41:21.638246Z",
     "shell.execute_reply": "2023-08-13T17:41:21.637009Z"
    },
    "papermill": {
     "duration": 0.055975,
     "end_time": "2023-08-13T17:41:21.640504",
     "exception": false,
     "start_time": "2023-08-13T17:41:21.584529",
     "status": "completed"
    },
    "tags": []
   },
   "outputs": [],
   "source": [
    "# checking for the best hyperparameters for prediction\n",
    "best_params = grid_search.best_params_"
   ]
  },
  {
   "cell_type": "code",
   "execution_count": 57,
   "id": "c4ed1c2c",
   "metadata": {
    "execution": {
     "iopub.execute_input": "2023-08-13T17:41:21.731179Z",
     "iopub.status.busy": "2023-08-13T17:41:21.730537Z",
     "iopub.status.idle": "2023-08-13T17:41:21.735711Z",
     "shell.execute_reply": "2023-08-13T17:41:21.734628Z"
    },
    "papermill": {
     "duration": 0.053077,
     "end_time": "2023-08-13T17:41:21.738087",
     "exception": false,
     "start_time": "2023-08-13T17:41:21.685010",
     "status": "completed"
    },
    "tags": []
   },
   "outputs": [],
   "source": [
    "# initialize new logistic regression model with the best hyperparameters chosen \n",
    "best_svc = LinearSVC(**best_params)"
   ]
  },
  {
   "cell_type": "code",
   "execution_count": 58,
   "id": "b8a2ef42",
   "metadata": {
    "execution": {
     "iopub.execute_input": "2023-08-13T17:41:21.832035Z",
     "iopub.status.busy": "2023-08-13T17:41:21.831405Z",
     "iopub.status.idle": "2023-08-13T17:41:27.322847Z",
     "shell.execute_reply": "2023-08-13T17:41:27.321702Z"
    },
    "papermill": {
     "duration": 5.540747,
     "end_time": "2023-08-13T17:41:27.325557",
     "exception": false,
     "start_time": "2023-08-13T17:41:21.784810",
     "status": "completed"
    },
    "tags": []
   },
   "outputs": [
    {
     "data": {
      "text/html": [
       "<style>#sk-container-id-4 {color: black;background-color: white;}#sk-container-id-4 pre{padding: 0;}#sk-container-id-4 div.sk-toggleable {background-color: white;}#sk-container-id-4 label.sk-toggleable__label {cursor: pointer;display: block;width: 100%;margin-bottom: 0;padding: 0.3em;box-sizing: border-box;text-align: center;}#sk-container-id-4 label.sk-toggleable__label-arrow:before {content: \"▸\";float: left;margin-right: 0.25em;color: #696969;}#sk-container-id-4 label.sk-toggleable__label-arrow:hover:before {color: black;}#sk-container-id-4 div.sk-estimator:hover label.sk-toggleable__label-arrow:before {color: black;}#sk-container-id-4 div.sk-toggleable__content {max-height: 0;max-width: 0;overflow: hidden;text-align: left;background-color: #f0f8ff;}#sk-container-id-4 div.sk-toggleable__content pre {margin: 0.2em;color: black;border-radius: 0.25em;background-color: #f0f8ff;}#sk-container-id-4 input.sk-toggleable__control:checked~div.sk-toggleable__content {max-height: 200px;max-width: 100%;overflow: auto;}#sk-container-id-4 input.sk-toggleable__control:checked~label.sk-toggleable__label-arrow:before {content: \"▾\";}#sk-container-id-4 div.sk-estimator input.sk-toggleable__control:checked~label.sk-toggleable__label {background-color: #d4ebff;}#sk-container-id-4 div.sk-label input.sk-toggleable__control:checked~label.sk-toggleable__label {background-color: #d4ebff;}#sk-container-id-4 input.sk-hidden--visually {border: 0;clip: rect(1px 1px 1px 1px);clip: rect(1px, 1px, 1px, 1px);height: 1px;margin: -1px;overflow: hidden;padding: 0;position: absolute;width: 1px;}#sk-container-id-4 div.sk-estimator {font-family: monospace;background-color: #f0f8ff;border: 1px dotted black;border-radius: 0.25em;box-sizing: border-box;margin-bottom: 0.5em;}#sk-container-id-4 div.sk-estimator:hover {background-color: #d4ebff;}#sk-container-id-4 div.sk-parallel-item::after {content: \"\";width: 100%;border-bottom: 1px solid gray;flex-grow: 1;}#sk-container-id-4 div.sk-label:hover label.sk-toggleable__label {background-color: #d4ebff;}#sk-container-id-4 div.sk-serial::before {content: \"\";position: absolute;border-left: 1px solid gray;box-sizing: border-box;top: 0;bottom: 0;left: 50%;z-index: 0;}#sk-container-id-4 div.sk-serial {display: flex;flex-direction: column;align-items: center;background-color: white;padding-right: 0.2em;padding-left: 0.2em;position: relative;}#sk-container-id-4 div.sk-item {position: relative;z-index: 1;}#sk-container-id-4 div.sk-parallel {display: flex;align-items: stretch;justify-content: center;background-color: white;position: relative;}#sk-container-id-4 div.sk-item::before, #sk-container-id-4 div.sk-parallel-item::before {content: \"\";position: absolute;border-left: 1px solid gray;box-sizing: border-box;top: 0;bottom: 0;left: 50%;z-index: -1;}#sk-container-id-4 div.sk-parallel-item {display: flex;flex-direction: column;z-index: 1;position: relative;background-color: white;}#sk-container-id-4 div.sk-parallel-item:first-child::after {align-self: flex-end;width: 50%;}#sk-container-id-4 div.sk-parallel-item:last-child::after {align-self: flex-start;width: 50%;}#sk-container-id-4 div.sk-parallel-item:only-child::after {width: 0;}#sk-container-id-4 div.sk-dashed-wrapped {border: 1px dashed gray;margin: 0 0.4em 0.5em 0.4em;box-sizing: border-box;padding-bottom: 0.4em;background-color: white;}#sk-container-id-4 div.sk-label label {font-family: monospace;font-weight: bold;display: inline-block;line-height: 1.2em;}#sk-container-id-4 div.sk-label-container {text-align: center;}#sk-container-id-4 div.sk-container {/* jupyter's `normalize.less` sets `[hidden] { display: none; }` but bootstrap.min.css set `[hidden] { display: none !important; }` so we also need the `!important` here to be able to override the default hidden behavior on the sphinx rendered scikit-learn.org. See: https://github.com/scikit-learn/scikit-learn/issues/21755 */display: inline-block !important;position: relative;}#sk-container-id-4 div.sk-text-repr-fallback {display: none;}</style><div id=\"sk-container-id-4\" class=\"sk-top-container\"><div class=\"sk-text-repr-fallback\"><pre>LinearSVC(C=0.1, fit_intercept=False, max_iter=100)</pre><b>In a Jupyter environment, please rerun this cell to show the HTML representation or trust the notebook. <br />On GitHub, the HTML representation is unable to render, please try loading this page with nbviewer.org.</b></div><div class=\"sk-container\" hidden><div class=\"sk-item\"><div class=\"sk-estimator sk-toggleable\"><input class=\"sk-toggleable__control sk-hidden--visually\" id=\"sk-estimator-id-8\" type=\"checkbox\" checked><label for=\"sk-estimator-id-8\" class=\"sk-toggleable__label sk-toggleable__label-arrow\">LinearSVC</label><div class=\"sk-toggleable__content\"><pre>LinearSVC(C=0.1, fit_intercept=False, max_iter=100)</pre></div></div></div></div></div>"
      ],
      "text/plain": [
       "LinearSVC(C=0.1, fit_intercept=False, max_iter=100)"
      ]
     },
     "execution_count": 58,
     "metadata": {},
     "output_type": "execute_result"
    }
   ],
   "source": [
    "# fitting the chosen hyperparameters on training data\n",
    "best_svc.fit(x_transformed_1, y_train)"
   ]
  },
  {
   "cell_type": "code",
   "execution_count": 59,
   "id": "a165ffa7",
   "metadata": {
    "execution": {
     "iopub.execute_input": "2023-08-13T17:41:27.421047Z",
     "iopub.status.busy": "2023-08-13T17:41:27.419659Z",
     "iopub.status.idle": "2023-08-13T17:41:27.429623Z",
     "shell.execute_reply": "2023-08-13T17:41:27.428726Z"
    },
    "papermill": {
     "duration": 0.058587,
     "end_time": "2023-08-13T17:41:27.432310",
     "exception": false,
     "start_time": "2023-08-13T17:41:27.373723",
     "status": "completed"
    },
    "tags": []
   },
   "outputs": [],
   "source": [
    "# Make predictions on the test set\n",
    "y_pred = best_svc.predict(X_val_1)"
   ]
  },
  {
   "cell_type": "code",
   "execution_count": 60,
   "id": "e55970a9",
   "metadata": {
    "execution": {
     "iopub.execute_input": "2023-08-13T17:41:27.525007Z",
     "iopub.status.busy": "2023-08-13T17:41:27.524562Z",
     "iopub.status.idle": "2023-08-13T17:41:27.718757Z",
     "shell.execute_reply": "2023-08-13T17:41:27.717429Z"
    },
    "papermill": {
     "duration": 0.243374,
     "end_time": "2023-08-13T17:41:27.721481",
     "exception": false,
     "start_time": "2023-08-13T17:41:27.478107",
     "status": "completed"
    },
    "tags": []
   },
   "outputs": [
    {
     "name": "stdout",
     "output_type": "stream",
     "text": [
      "Accuracy score of LINEAR SVC model :  0.8132219218481199\n"
     ]
    }
   ],
   "source": [
    "print(\"Accuracy score of LINEAR SVC model : \",accuracy_score(y_val, y_pred))"
   ]
  },
  {
   "cell_type": "code",
   "execution_count": 61,
   "id": "2659b723",
   "metadata": {
    "execution": {
     "iopub.execute_input": "2023-08-13T17:41:27.819607Z",
     "iopub.status.busy": "2023-08-13T17:41:27.818897Z",
     "iopub.status.idle": "2023-08-13T17:41:28.609468Z",
     "shell.execute_reply": "2023-08-13T17:41:28.608271Z"
    },
    "papermill": {
     "duration": 0.843333,
     "end_time": "2023-08-13T17:41:28.611836",
     "exception": false,
     "start_time": "2023-08-13T17:41:27.768503",
     "status": "completed"
    },
    "tags": []
   },
   "outputs": [
    {
     "name": "stdout",
     "output_type": "stream",
     "text": [
      "f1 score of LINEAR SVC model :  0.8664886515353805\n"
     ]
    }
   ],
   "source": [
    "print(\"f1 score of LINEAR SVC model : \",f1_score(y_val, y_pred, pos_label='POSITIVE'))"
   ]
  },
  {
   "cell_type": "code",
   "execution_count": 62,
   "id": "fd28d1f6",
   "metadata": {
    "execution": {
     "iopub.execute_input": "2023-08-13T17:41:28.705395Z",
     "iopub.status.busy": "2023-08-13T17:41:28.704723Z",
     "iopub.status.idle": "2023-08-13T17:41:32.164195Z",
     "shell.execute_reply": "2023-08-13T17:41:32.162916Z"
    },
    "papermill": {
     "duration": 3.510979,
     "end_time": "2023-08-13T17:41:32.167134",
     "exception": false,
     "start_time": "2023-08-13T17:41:28.656155",
     "status": "completed"
    },
    "tags": []
   },
   "outputs": [
    {
     "name": "stdout",
     "output_type": "stream",
     "text": [
      "Classifcation report of LINEAR SVC model : \n",
      "              precision    recall  f1-score   support\n",
      "\n",
      "    NEGATIVE       0.76      0.63      0.69     13430\n",
      "    POSITIVE       0.83      0.90      0.87     27260\n",
      "\n",
      "    accuracy                           0.81     40690\n",
      "   macro avg       0.80      0.77      0.78     40690\n",
      "weighted avg       0.81      0.81      0.81     40690\n",
      "\n"
     ]
    }
   ],
   "source": [
    "print(\"Classifcation report of LINEAR SVC model : \")\n",
    "print(classification_report(y_val, y_pred))"
   ]
  },
  {
   "cell_type": "markdown",
   "id": "378604b1",
   "metadata": {
    "papermill": {
     "duration": 0.044312,
     "end_time": "2023-08-13T17:41:32.256791",
     "exception": false,
     "start_time": "2023-08-13T17:41:32.212479",
     "status": "completed"
    },
    "tags": []
   },
   "source": [
    "**DECISION TREE MODEL**"
   ]
  },
  {
   "cell_type": "code",
   "execution_count": 63,
   "id": "1250c1f1",
   "metadata": {
    "execution": {
     "iopub.execute_input": "2023-08-13T17:41:32.349470Z",
     "iopub.status.busy": "2023-08-13T17:41:32.349097Z",
     "iopub.status.idle": "2023-08-13T17:41:32.353745Z",
     "shell.execute_reply": "2023-08-13T17:41:32.352535Z"
    },
    "papermill": {
     "duration": 0.054571,
     "end_time": "2023-08-13T17:41:32.356085",
     "exception": false,
     "start_time": "2023-08-13T17:41:32.301514",
     "status": "completed"
    },
    "tags": []
   },
   "outputs": [],
   "source": [
    "# Create a DECISION TREE classifier\n",
    "dt_model = DecisionTreeClassifier()"
   ]
  },
  {
   "cell_type": "code",
   "execution_count": 64,
   "id": "b10ab8ad",
   "metadata": {
    "execution": {
     "iopub.execute_input": "2023-08-13T17:41:32.450689Z",
     "iopub.status.busy": "2023-08-13T17:41:32.450309Z",
     "iopub.status.idle": "2023-08-13T17:41:32.455556Z",
     "shell.execute_reply": "2023-08-13T17:41:32.454392Z"
    },
    "papermill": {
     "duration": 0.055318,
     "end_time": "2023-08-13T17:41:32.458041",
     "exception": false,
     "start_time": "2023-08-13T17:41:32.402723",
     "status": "completed"
    },
    "tags": []
   },
   "outputs": [],
   "source": [
    "# defining param grid for the decision tree model which can be used to fit the training data\n",
    "param_grid = {\n",
    "    'max_depth': [3,5],\n",
    "    'min_samples_split' : [2,3],\n",
    "    'min_samples_leaf' : [1]\n",
    "}"
   ]
  },
  {
   "cell_type": "code",
   "execution_count": 65,
   "id": "db971682",
   "metadata": {
    "execution": {
     "iopub.execute_input": "2023-08-13T17:41:32.552855Z",
     "iopub.status.busy": "2023-08-13T17:41:32.552478Z",
     "iopub.status.idle": "2023-08-13T17:41:32.556768Z",
     "shell.execute_reply": "2023-08-13T17:41:32.555922Z"
    },
    "papermill": {
     "duration": 0.054527,
     "end_time": "2023-08-13T17:41:32.558838",
     "exception": false,
     "start_time": "2023-08-13T17:41:32.504311",
     "status": "completed"
    },
    "tags": []
   },
   "outputs": [],
   "source": [
    "# initialize GridSearchCV with DECISION TREE estimator and its defined parameters\n",
    "grid_search = GridSearchCV(dt_model, param_grid, cv=5)"
   ]
  },
  {
   "cell_type": "code",
   "execution_count": 66,
   "id": "8e8576aa",
   "metadata": {
    "execution": {
     "iopub.execute_input": "2023-08-13T17:41:32.652318Z",
     "iopub.status.busy": "2023-08-13T17:41:32.651899Z",
     "iopub.status.idle": "2023-08-13T17:43:40.347752Z",
     "shell.execute_reply": "2023-08-13T17:43:40.346826Z"
    },
    "papermill": {
     "duration": 127.791727,
     "end_time": "2023-08-13T17:43:40.397039",
     "exception": false,
     "start_time": "2023-08-13T17:41:32.605312",
     "status": "completed"
    },
    "tags": []
   },
   "outputs": [
    {
     "data": {
      "text/html": [
       "<style>#sk-container-id-5 {color: black;background-color: white;}#sk-container-id-5 pre{padding: 0;}#sk-container-id-5 div.sk-toggleable {background-color: white;}#sk-container-id-5 label.sk-toggleable__label {cursor: pointer;display: block;width: 100%;margin-bottom: 0;padding: 0.3em;box-sizing: border-box;text-align: center;}#sk-container-id-5 label.sk-toggleable__label-arrow:before {content: \"▸\";float: left;margin-right: 0.25em;color: #696969;}#sk-container-id-5 label.sk-toggleable__label-arrow:hover:before {color: black;}#sk-container-id-5 div.sk-estimator:hover label.sk-toggleable__label-arrow:before {color: black;}#sk-container-id-5 div.sk-toggleable__content {max-height: 0;max-width: 0;overflow: hidden;text-align: left;background-color: #f0f8ff;}#sk-container-id-5 div.sk-toggleable__content pre {margin: 0.2em;color: black;border-radius: 0.25em;background-color: #f0f8ff;}#sk-container-id-5 input.sk-toggleable__control:checked~div.sk-toggleable__content {max-height: 200px;max-width: 100%;overflow: auto;}#sk-container-id-5 input.sk-toggleable__control:checked~label.sk-toggleable__label-arrow:before {content: \"▾\";}#sk-container-id-5 div.sk-estimator input.sk-toggleable__control:checked~label.sk-toggleable__label {background-color: #d4ebff;}#sk-container-id-5 div.sk-label input.sk-toggleable__control:checked~label.sk-toggleable__label {background-color: #d4ebff;}#sk-container-id-5 input.sk-hidden--visually {border: 0;clip: rect(1px 1px 1px 1px);clip: rect(1px, 1px, 1px, 1px);height: 1px;margin: -1px;overflow: hidden;padding: 0;position: absolute;width: 1px;}#sk-container-id-5 div.sk-estimator {font-family: monospace;background-color: #f0f8ff;border: 1px dotted black;border-radius: 0.25em;box-sizing: border-box;margin-bottom: 0.5em;}#sk-container-id-5 div.sk-estimator:hover {background-color: #d4ebff;}#sk-container-id-5 div.sk-parallel-item::after {content: \"\";width: 100%;border-bottom: 1px solid gray;flex-grow: 1;}#sk-container-id-5 div.sk-label:hover label.sk-toggleable__label {background-color: #d4ebff;}#sk-container-id-5 div.sk-serial::before {content: \"\";position: absolute;border-left: 1px solid gray;box-sizing: border-box;top: 0;bottom: 0;left: 50%;z-index: 0;}#sk-container-id-5 div.sk-serial {display: flex;flex-direction: column;align-items: center;background-color: white;padding-right: 0.2em;padding-left: 0.2em;position: relative;}#sk-container-id-5 div.sk-item {position: relative;z-index: 1;}#sk-container-id-5 div.sk-parallel {display: flex;align-items: stretch;justify-content: center;background-color: white;position: relative;}#sk-container-id-5 div.sk-item::before, #sk-container-id-5 div.sk-parallel-item::before {content: \"\";position: absolute;border-left: 1px solid gray;box-sizing: border-box;top: 0;bottom: 0;left: 50%;z-index: -1;}#sk-container-id-5 div.sk-parallel-item {display: flex;flex-direction: column;z-index: 1;position: relative;background-color: white;}#sk-container-id-5 div.sk-parallel-item:first-child::after {align-self: flex-end;width: 50%;}#sk-container-id-5 div.sk-parallel-item:last-child::after {align-self: flex-start;width: 50%;}#sk-container-id-5 div.sk-parallel-item:only-child::after {width: 0;}#sk-container-id-5 div.sk-dashed-wrapped {border: 1px dashed gray;margin: 0 0.4em 0.5em 0.4em;box-sizing: border-box;padding-bottom: 0.4em;background-color: white;}#sk-container-id-5 div.sk-label label {font-family: monospace;font-weight: bold;display: inline-block;line-height: 1.2em;}#sk-container-id-5 div.sk-label-container {text-align: center;}#sk-container-id-5 div.sk-container {/* jupyter's `normalize.less` sets `[hidden] { display: none; }` but bootstrap.min.css set `[hidden] { display: none !important; }` so we also need the `!important` here to be able to override the default hidden behavior on the sphinx rendered scikit-learn.org. See: https://github.com/scikit-learn/scikit-learn/issues/21755 */display: inline-block !important;position: relative;}#sk-container-id-5 div.sk-text-repr-fallback {display: none;}</style><div id=\"sk-container-id-5\" class=\"sk-top-container\"><div class=\"sk-text-repr-fallback\"><pre>GridSearchCV(cv=5, estimator=DecisionTreeClassifier(),\n",
       "             param_grid={&#x27;max_depth&#x27;: [3, 5], &#x27;min_samples_leaf&#x27;: [1],\n",
       "                         &#x27;min_samples_split&#x27;: [2, 3]})</pre><b>In a Jupyter environment, please rerun this cell to show the HTML representation or trust the notebook. <br />On GitHub, the HTML representation is unable to render, please try loading this page with nbviewer.org.</b></div><div class=\"sk-container\" hidden><div class=\"sk-item sk-dashed-wrapped\"><div class=\"sk-label-container\"><div class=\"sk-label sk-toggleable\"><input class=\"sk-toggleable__control sk-hidden--visually\" id=\"sk-estimator-id-9\" type=\"checkbox\" ><label for=\"sk-estimator-id-9\" class=\"sk-toggleable__label sk-toggleable__label-arrow\">GridSearchCV</label><div class=\"sk-toggleable__content\"><pre>GridSearchCV(cv=5, estimator=DecisionTreeClassifier(),\n",
       "             param_grid={&#x27;max_depth&#x27;: [3, 5], &#x27;min_samples_leaf&#x27;: [1],\n",
       "                         &#x27;min_samples_split&#x27;: [2, 3]})</pre></div></div></div><div class=\"sk-parallel\"><div class=\"sk-parallel-item\"><div class=\"sk-item\"><div class=\"sk-label-container\"><div class=\"sk-label sk-toggleable\"><input class=\"sk-toggleable__control sk-hidden--visually\" id=\"sk-estimator-id-10\" type=\"checkbox\" ><label for=\"sk-estimator-id-10\" class=\"sk-toggleable__label sk-toggleable__label-arrow\">estimator: DecisionTreeClassifier</label><div class=\"sk-toggleable__content\"><pre>DecisionTreeClassifier()</pre></div></div></div><div class=\"sk-serial\"><div class=\"sk-item\"><div class=\"sk-estimator sk-toggleable\"><input class=\"sk-toggleable__control sk-hidden--visually\" id=\"sk-estimator-id-11\" type=\"checkbox\" ><label for=\"sk-estimator-id-11\" class=\"sk-toggleable__label sk-toggleable__label-arrow\">DecisionTreeClassifier</label><div class=\"sk-toggleable__content\"><pre>DecisionTreeClassifier()</pre></div></div></div></div></div></div></div></div></div></div>"
      ],
      "text/plain": [
       "GridSearchCV(cv=5, estimator=DecisionTreeClassifier(),\n",
       "             param_grid={'max_depth': [3, 5], 'min_samples_leaf': [1],\n",
       "                         'min_samples_split': [2, 3]})"
      ]
     },
     "execution_count": 66,
     "metadata": {},
     "output_type": "execute_result"
    }
   ],
   "source": [
    "# fitting the preprocessed training data\n",
    "grid_search.fit(x_transformed_1, y_train)"
   ]
  },
  {
   "cell_type": "code",
   "execution_count": 67,
   "id": "5055d312",
   "metadata": {
    "execution": {
     "iopub.execute_input": "2023-08-13T17:43:40.492305Z",
     "iopub.status.busy": "2023-08-13T17:43:40.491105Z",
     "iopub.status.idle": "2023-08-13T17:43:40.496617Z",
     "shell.execute_reply": "2023-08-13T17:43:40.495506Z"
    },
    "papermill": {
     "duration": 0.056657,
     "end_time": "2023-08-13T17:43:40.499134",
     "exception": false,
     "start_time": "2023-08-13T17:43:40.442477",
     "status": "completed"
    },
    "tags": []
   },
   "outputs": [],
   "source": [
    "# checking for the best hyperparameters for prediction\n",
    "best_params = grid_search.best_params_"
   ]
  },
  {
   "cell_type": "code",
   "execution_count": 68,
   "id": "03a399ee",
   "metadata": {
    "execution": {
     "iopub.execute_input": "2023-08-13T17:43:40.595402Z",
     "iopub.status.busy": "2023-08-13T17:43:40.594933Z",
     "iopub.status.idle": "2023-08-13T17:43:40.600826Z",
     "shell.execute_reply": "2023-08-13T17:43:40.599623Z"
    },
    "papermill": {
     "duration": 0.056618,
     "end_time": "2023-08-13T17:43:40.603357",
     "exception": false,
     "start_time": "2023-08-13T17:43:40.546739",
     "status": "completed"
    },
    "tags": []
   },
   "outputs": [],
   "source": [
    "# initialize new decision tree model with the best hyperparameters chosen \n",
    "best_dt = DecisionTreeClassifier(**best_params)"
   ]
  },
  {
   "cell_type": "code",
   "execution_count": 69,
   "id": "9afa882d",
   "metadata": {
    "execution": {
     "iopub.execute_input": "2023-08-13T17:43:40.695549Z",
     "iopub.status.busy": "2023-08-13T17:43:40.695162Z",
     "iopub.status.idle": "2023-08-13T17:43:44.526255Z",
     "shell.execute_reply": "2023-08-13T17:43:44.525227Z"
    },
    "papermill": {
     "duration": 3.879857,
     "end_time": "2023-08-13T17:43:44.528973",
     "exception": false,
     "start_time": "2023-08-13T17:43:40.649116",
     "status": "completed"
    },
    "tags": []
   },
   "outputs": [
    {
     "data": {
      "text/html": [
       "<style>#sk-container-id-6 {color: black;background-color: white;}#sk-container-id-6 pre{padding: 0;}#sk-container-id-6 div.sk-toggleable {background-color: white;}#sk-container-id-6 label.sk-toggleable__label {cursor: pointer;display: block;width: 100%;margin-bottom: 0;padding: 0.3em;box-sizing: border-box;text-align: center;}#sk-container-id-6 label.sk-toggleable__label-arrow:before {content: \"▸\";float: left;margin-right: 0.25em;color: #696969;}#sk-container-id-6 label.sk-toggleable__label-arrow:hover:before {color: black;}#sk-container-id-6 div.sk-estimator:hover label.sk-toggleable__label-arrow:before {color: black;}#sk-container-id-6 div.sk-toggleable__content {max-height: 0;max-width: 0;overflow: hidden;text-align: left;background-color: #f0f8ff;}#sk-container-id-6 div.sk-toggleable__content pre {margin: 0.2em;color: black;border-radius: 0.25em;background-color: #f0f8ff;}#sk-container-id-6 input.sk-toggleable__control:checked~div.sk-toggleable__content {max-height: 200px;max-width: 100%;overflow: auto;}#sk-container-id-6 input.sk-toggleable__control:checked~label.sk-toggleable__label-arrow:before {content: \"▾\";}#sk-container-id-6 div.sk-estimator input.sk-toggleable__control:checked~label.sk-toggleable__label {background-color: #d4ebff;}#sk-container-id-6 div.sk-label input.sk-toggleable__control:checked~label.sk-toggleable__label {background-color: #d4ebff;}#sk-container-id-6 input.sk-hidden--visually {border: 0;clip: rect(1px 1px 1px 1px);clip: rect(1px, 1px, 1px, 1px);height: 1px;margin: -1px;overflow: hidden;padding: 0;position: absolute;width: 1px;}#sk-container-id-6 div.sk-estimator {font-family: monospace;background-color: #f0f8ff;border: 1px dotted black;border-radius: 0.25em;box-sizing: border-box;margin-bottom: 0.5em;}#sk-container-id-6 div.sk-estimator:hover {background-color: #d4ebff;}#sk-container-id-6 div.sk-parallel-item::after {content: \"\";width: 100%;border-bottom: 1px solid gray;flex-grow: 1;}#sk-container-id-6 div.sk-label:hover label.sk-toggleable__label {background-color: #d4ebff;}#sk-container-id-6 div.sk-serial::before {content: \"\";position: absolute;border-left: 1px solid gray;box-sizing: border-box;top: 0;bottom: 0;left: 50%;z-index: 0;}#sk-container-id-6 div.sk-serial {display: flex;flex-direction: column;align-items: center;background-color: white;padding-right: 0.2em;padding-left: 0.2em;position: relative;}#sk-container-id-6 div.sk-item {position: relative;z-index: 1;}#sk-container-id-6 div.sk-parallel {display: flex;align-items: stretch;justify-content: center;background-color: white;position: relative;}#sk-container-id-6 div.sk-item::before, #sk-container-id-6 div.sk-parallel-item::before {content: \"\";position: absolute;border-left: 1px solid gray;box-sizing: border-box;top: 0;bottom: 0;left: 50%;z-index: -1;}#sk-container-id-6 div.sk-parallel-item {display: flex;flex-direction: column;z-index: 1;position: relative;background-color: white;}#sk-container-id-6 div.sk-parallel-item:first-child::after {align-self: flex-end;width: 50%;}#sk-container-id-6 div.sk-parallel-item:last-child::after {align-self: flex-start;width: 50%;}#sk-container-id-6 div.sk-parallel-item:only-child::after {width: 0;}#sk-container-id-6 div.sk-dashed-wrapped {border: 1px dashed gray;margin: 0 0.4em 0.5em 0.4em;box-sizing: border-box;padding-bottom: 0.4em;background-color: white;}#sk-container-id-6 div.sk-label label {font-family: monospace;font-weight: bold;display: inline-block;line-height: 1.2em;}#sk-container-id-6 div.sk-label-container {text-align: center;}#sk-container-id-6 div.sk-container {/* jupyter's `normalize.less` sets `[hidden] { display: none; }` but bootstrap.min.css set `[hidden] { display: none !important; }` so we also need the `!important` here to be able to override the default hidden behavior on the sphinx rendered scikit-learn.org. See: https://github.com/scikit-learn/scikit-learn/issues/21755 */display: inline-block !important;position: relative;}#sk-container-id-6 div.sk-text-repr-fallback {display: none;}</style><div id=\"sk-container-id-6\" class=\"sk-top-container\"><div class=\"sk-text-repr-fallback\"><pre>DecisionTreeClassifier(max_depth=5)</pre><b>In a Jupyter environment, please rerun this cell to show the HTML representation or trust the notebook. <br />On GitHub, the HTML representation is unable to render, please try loading this page with nbviewer.org.</b></div><div class=\"sk-container\" hidden><div class=\"sk-item\"><div class=\"sk-estimator sk-toggleable\"><input class=\"sk-toggleable__control sk-hidden--visually\" id=\"sk-estimator-id-12\" type=\"checkbox\" checked><label for=\"sk-estimator-id-12\" class=\"sk-toggleable__label sk-toggleable__label-arrow\">DecisionTreeClassifier</label><div class=\"sk-toggleable__content\"><pre>DecisionTreeClassifier(max_depth=5)</pre></div></div></div></div></div>"
      ],
      "text/plain": [
       "DecisionTreeClassifier(max_depth=5)"
      ]
     },
     "execution_count": 69,
     "metadata": {},
     "output_type": "execute_result"
    }
   ],
   "source": [
    "# fitting the chosen hyperparameters on training data\n",
    "best_dt.fit(x_transformed_1, y_train)"
   ]
  },
  {
   "cell_type": "code",
   "execution_count": 70,
   "id": "1c0039d1",
   "metadata": {
    "execution": {
     "iopub.execute_input": "2023-08-13T17:43:44.620830Z",
     "iopub.status.busy": "2023-08-13T17:43:44.620149Z",
     "iopub.status.idle": "2023-08-13T17:43:44.634847Z",
     "shell.execute_reply": "2023-08-13T17:43:44.633695Z"
    },
    "papermill": {
     "duration": 0.064044,
     "end_time": "2023-08-13T17:43:44.637751",
     "exception": false,
     "start_time": "2023-08-13T17:43:44.573707",
     "status": "completed"
    },
    "tags": []
   },
   "outputs": [],
   "source": [
    "# Make predictions on the test set\n",
    "y_pred = best_dt.predict(X_val_1)"
   ]
  },
  {
   "cell_type": "code",
   "execution_count": 71,
   "id": "7bb1055f",
   "metadata": {
    "execution": {
     "iopub.execute_input": "2023-08-13T17:43:44.735024Z",
     "iopub.status.busy": "2023-08-13T17:43:44.734356Z",
     "iopub.status.idle": "2023-08-13T17:43:44.921875Z",
     "shell.execute_reply": "2023-08-13T17:43:44.921017Z"
    },
    "papermill": {
     "duration": 0.240892,
     "end_time": "2023-08-13T17:43:44.924425",
     "exception": false,
     "start_time": "2023-08-13T17:43:44.683533",
     "status": "completed"
    },
    "tags": []
   },
   "outputs": [
    {
     "name": "stdout",
     "output_type": "stream",
     "text": [
      "Accuracy score of DECISION TREE model :  0.7005898255099533\n"
     ]
    }
   ],
   "source": [
    "print(\"Accuracy score of DECISION TREE model : \",accuracy_score(y_val, y_pred))"
   ]
  },
  {
   "cell_type": "code",
   "execution_count": 72,
   "id": "298b4ec1",
   "metadata": {
    "execution": {
     "iopub.execute_input": "2023-08-13T17:43:45.025720Z",
     "iopub.status.busy": "2023-08-13T17:43:45.024865Z",
     "iopub.status.idle": "2023-08-13T17:43:45.818682Z",
     "shell.execute_reply": "2023-08-13T17:43:45.817362Z"
    },
    "papermill": {
     "duration": 0.846519,
     "end_time": "2023-08-13T17:43:45.821397",
     "exception": false,
     "start_time": "2023-08-13T17:43:44.974878",
     "status": "completed"
    },
    "tags": []
   },
   "outputs": [
    {
     "name": "stdout",
     "output_type": "stream",
     "text": [
      "f1 score of DECISION TREE model :  0.7987112763320942\n"
     ]
    }
   ],
   "source": [
    "print(\"f1 score of DECISION TREE model : \",f1_score(y_val, y_pred, pos_label = 'POSITIVE'))"
   ]
  },
  {
   "cell_type": "code",
   "execution_count": 73,
   "id": "4e6027fb",
   "metadata": {
    "execution": {
     "iopub.execute_input": "2023-08-13T17:43:45.996265Z",
     "iopub.status.busy": "2023-08-13T17:43:45.995153Z",
     "iopub.status.idle": "2023-08-13T17:43:49.471383Z",
     "shell.execute_reply": "2023-08-13T17:43:49.470186Z"
    },
    "papermill": {
     "duration": 3.601661,
     "end_time": "2023-08-13T17:43:49.473982",
     "exception": false,
     "start_time": "2023-08-13T17:43:45.872321",
     "status": "completed"
    },
    "tags": []
   },
   "outputs": [
    {
     "name": "stdout",
     "output_type": "stream",
     "text": [
      "Classifcation report of DECISION TREE model : \n",
      "              precision    recall  f1-score   support\n",
      "\n",
      "    NEGATIVE       0.58      0.32      0.42     13430\n",
      "    POSITIVE       0.73      0.89      0.80     27260\n",
      "\n",
      "    accuracy                           0.70     40690\n",
      "   macro avg       0.66      0.60      0.61     40690\n",
      "weighted avg       0.68      0.70      0.67     40690\n",
      "\n"
     ]
    }
   ],
   "source": [
    "print(\"Classifcation report of DECISION TREE model : \")\n",
    "print(classification_report(y_val, y_pred))"
   ]
  },
  {
   "cell_type": "markdown",
   "id": "e0f44492",
   "metadata": {
    "papermill": {
     "duration": 0.045152,
     "end_time": "2023-08-13T17:43:49.565228",
     "exception": false,
     "start_time": "2023-08-13T17:43:49.520076",
     "status": "completed"
    },
    "tags": []
   },
   "source": [
    "**MULTINOMIAL NAIVE BAYES MODEL**"
   ]
  },
  {
   "cell_type": "code",
   "execution_count": 74,
   "id": "79ce8d90",
   "metadata": {
    "execution": {
     "iopub.execute_input": "2023-08-13T17:43:49.657905Z",
     "iopub.status.busy": "2023-08-13T17:43:49.657490Z",
     "iopub.status.idle": "2023-08-13T17:43:49.662553Z",
     "shell.execute_reply": "2023-08-13T17:43:49.661383Z"
    },
    "papermill": {
     "duration": 0.054295,
     "end_time": "2023-08-13T17:43:49.664975",
     "exception": false,
     "start_time": "2023-08-13T17:43:49.610680",
     "status": "completed"
    },
    "tags": []
   },
   "outputs": [],
   "source": [
    "# Create a MULTINOMIAL NAIVE BAYES classifier\n",
    "nb = MultinomialNB()"
   ]
  },
  {
   "cell_type": "code",
   "execution_count": 75,
   "id": "d9dffd7d",
   "metadata": {
    "execution": {
     "iopub.execute_input": "2023-08-13T17:43:49.763656Z",
     "iopub.status.busy": "2023-08-13T17:43:49.763249Z",
     "iopub.status.idle": "2023-08-13T17:43:49.769565Z",
     "shell.execute_reply": "2023-08-13T17:43:49.767879Z"
    },
    "papermill": {
     "duration": 0.059539,
     "end_time": "2023-08-13T17:43:49.772200",
     "exception": false,
     "start_time": "2023-08-13T17:43:49.712661",
     "status": "completed"
    },
    "tags": []
   },
   "outputs": [],
   "source": [
    "# defining param grid for the naive bayes model which can be used to fit the training data\n",
    "from sklearn.naive_bayes import MultinomialNB\n",
    "param_grid = {\n",
    "    'alpha': [0.001, 0.01, 0.1, 1, 10, 100],       \n",
    "    'fit_prior': [True, False]\n",
    "}"
   ]
  },
  {
   "cell_type": "code",
   "execution_count": 76,
   "id": "a0087556",
   "metadata": {
    "execution": {
     "iopub.execute_input": "2023-08-13T17:43:49.869576Z",
     "iopub.status.busy": "2023-08-13T17:43:49.869174Z",
     "iopub.status.idle": "2023-08-13T17:43:49.874417Z",
     "shell.execute_reply": "2023-08-13T17:43:49.873318Z"
    },
    "papermill": {
     "duration": 0.056977,
     "end_time": "2023-08-13T17:43:49.876763",
     "exception": false,
     "start_time": "2023-08-13T17:43:49.819786",
     "status": "completed"
    },
    "tags": []
   },
   "outputs": [],
   "source": [
    "# initialize GridSearchCV with MULTINOMIAL NAIVE BAYES estimator and its defined parameters\n",
    "grid_search = GridSearchCV(nb, param_grid, cv=5)"
   ]
  },
  {
   "cell_type": "code",
   "execution_count": 77,
   "id": "034808ab",
   "metadata": {
    "execution": {
     "iopub.execute_input": "2023-08-13T17:43:49.974333Z",
     "iopub.status.busy": "2023-08-13T17:43:49.973081Z",
     "iopub.status.idle": "2023-08-13T17:44:39.331986Z",
     "shell.execute_reply": "2023-08-13T17:44:39.330781Z"
    },
    "papermill": {
     "duration": 49.456993,
     "end_time": "2023-08-13T17:44:39.382324",
     "exception": false,
     "start_time": "2023-08-13T17:43:49.925331",
     "status": "completed"
    },
    "tags": []
   },
   "outputs": [
    {
     "data": {
      "text/html": [
       "<style>#sk-container-id-7 {color: black;background-color: white;}#sk-container-id-7 pre{padding: 0;}#sk-container-id-7 div.sk-toggleable {background-color: white;}#sk-container-id-7 label.sk-toggleable__label {cursor: pointer;display: block;width: 100%;margin-bottom: 0;padding: 0.3em;box-sizing: border-box;text-align: center;}#sk-container-id-7 label.sk-toggleable__label-arrow:before {content: \"▸\";float: left;margin-right: 0.25em;color: #696969;}#sk-container-id-7 label.sk-toggleable__label-arrow:hover:before {color: black;}#sk-container-id-7 div.sk-estimator:hover label.sk-toggleable__label-arrow:before {color: black;}#sk-container-id-7 div.sk-toggleable__content {max-height: 0;max-width: 0;overflow: hidden;text-align: left;background-color: #f0f8ff;}#sk-container-id-7 div.sk-toggleable__content pre {margin: 0.2em;color: black;border-radius: 0.25em;background-color: #f0f8ff;}#sk-container-id-7 input.sk-toggleable__control:checked~div.sk-toggleable__content {max-height: 200px;max-width: 100%;overflow: auto;}#sk-container-id-7 input.sk-toggleable__control:checked~label.sk-toggleable__label-arrow:before {content: \"▾\";}#sk-container-id-7 div.sk-estimator input.sk-toggleable__control:checked~label.sk-toggleable__label {background-color: #d4ebff;}#sk-container-id-7 div.sk-label input.sk-toggleable__control:checked~label.sk-toggleable__label {background-color: #d4ebff;}#sk-container-id-7 input.sk-hidden--visually {border: 0;clip: rect(1px 1px 1px 1px);clip: rect(1px, 1px, 1px, 1px);height: 1px;margin: -1px;overflow: hidden;padding: 0;position: absolute;width: 1px;}#sk-container-id-7 div.sk-estimator {font-family: monospace;background-color: #f0f8ff;border: 1px dotted black;border-radius: 0.25em;box-sizing: border-box;margin-bottom: 0.5em;}#sk-container-id-7 div.sk-estimator:hover {background-color: #d4ebff;}#sk-container-id-7 div.sk-parallel-item::after {content: \"\";width: 100%;border-bottom: 1px solid gray;flex-grow: 1;}#sk-container-id-7 div.sk-label:hover label.sk-toggleable__label {background-color: #d4ebff;}#sk-container-id-7 div.sk-serial::before {content: \"\";position: absolute;border-left: 1px solid gray;box-sizing: border-box;top: 0;bottom: 0;left: 50%;z-index: 0;}#sk-container-id-7 div.sk-serial {display: flex;flex-direction: column;align-items: center;background-color: white;padding-right: 0.2em;padding-left: 0.2em;position: relative;}#sk-container-id-7 div.sk-item {position: relative;z-index: 1;}#sk-container-id-7 div.sk-parallel {display: flex;align-items: stretch;justify-content: center;background-color: white;position: relative;}#sk-container-id-7 div.sk-item::before, #sk-container-id-7 div.sk-parallel-item::before {content: \"\";position: absolute;border-left: 1px solid gray;box-sizing: border-box;top: 0;bottom: 0;left: 50%;z-index: -1;}#sk-container-id-7 div.sk-parallel-item {display: flex;flex-direction: column;z-index: 1;position: relative;background-color: white;}#sk-container-id-7 div.sk-parallel-item:first-child::after {align-self: flex-end;width: 50%;}#sk-container-id-7 div.sk-parallel-item:last-child::after {align-self: flex-start;width: 50%;}#sk-container-id-7 div.sk-parallel-item:only-child::after {width: 0;}#sk-container-id-7 div.sk-dashed-wrapped {border: 1px dashed gray;margin: 0 0.4em 0.5em 0.4em;box-sizing: border-box;padding-bottom: 0.4em;background-color: white;}#sk-container-id-7 div.sk-label label {font-family: monospace;font-weight: bold;display: inline-block;line-height: 1.2em;}#sk-container-id-7 div.sk-label-container {text-align: center;}#sk-container-id-7 div.sk-container {/* jupyter's `normalize.less` sets `[hidden] { display: none; }` but bootstrap.min.css set `[hidden] { display: none !important; }` so we also need the `!important` here to be able to override the default hidden behavior on the sphinx rendered scikit-learn.org. See: https://github.com/scikit-learn/scikit-learn/issues/21755 */display: inline-block !important;position: relative;}#sk-container-id-7 div.sk-text-repr-fallback {display: none;}</style><div id=\"sk-container-id-7\" class=\"sk-top-container\"><div class=\"sk-text-repr-fallback\"><pre>GridSearchCV(cv=5, estimator=MultinomialNB(),\n",
       "             param_grid={&#x27;alpha&#x27;: [0.001, 0.01, 0.1, 1, 10, 100],\n",
       "                         &#x27;fit_prior&#x27;: [True, False]})</pre><b>In a Jupyter environment, please rerun this cell to show the HTML representation or trust the notebook. <br />On GitHub, the HTML representation is unable to render, please try loading this page with nbviewer.org.</b></div><div class=\"sk-container\" hidden><div class=\"sk-item sk-dashed-wrapped\"><div class=\"sk-label-container\"><div class=\"sk-label sk-toggleable\"><input class=\"sk-toggleable__control sk-hidden--visually\" id=\"sk-estimator-id-13\" type=\"checkbox\" ><label for=\"sk-estimator-id-13\" class=\"sk-toggleable__label sk-toggleable__label-arrow\">GridSearchCV</label><div class=\"sk-toggleable__content\"><pre>GridSearchCV(cv=5, estimator=MultinomialNB(),\n",
       "             param_grid={&#x27;alpha&#x27;: [0.001, 0.01, 0.1, 1, 10, 100],\n",
       "                         &#x27;fit_prior&#x27;: [True, False]})</pre></div></div></div><div class=\"sk-parallel\"><div class=\"sk-parallel-item\"><div class=\"sk-item\"><div class=\"sk-label-container\"><div class=\"sk-label sk-toggleable\"><input class=\"sk-toggleable__control sk-hidden--visually\" id=\"sk-estimator-id-14\" type=\"checkbox\" ><label for=\"sk-estimator-id-14\" class=\"sk-toggleable__label sk-toggleable__label-arrow\">estimator: MultinomialNB</label><div class=\"sk-toggleable__content\"><pre>MultinomialNB()</pre></div></div></div><div class=\"sk-serial\"><div class=\"sk-item\"><div class=\"sk-estimator sk-toggleable\"><input class=\"sk-toggleable__control sk-hidden--visually\" id=\"sk-estimator-id-15\" type=\"checkbox\" ><label for=\"sk-estimator-id-15\" class=\"sk-toggleable__label sk-toggleable__label-arrow\">MultinomialNB</label><div class=\"sk-toggleable__content\"><pre>MultinomialNB()</pre></div></div></div></div></div></div></div></div></div></div>"
      ],
      "text/plain": [
       "GridSearchCV(cv=5, estimator=MultinomialNB(),\n",
       "             param_grid={'alpha': [0.001, 0.01, 0.1, 1, 10, 100],\n",
       "                         'fit_prior': [True, False]})"
      ]
     },
     "execution_count": 77,
     "metadata": {},
     "output_type": "execute_result"
    }
   ],
   "source": [
    "# fitting the preprocessed training data\n",
    "grid_search.fit(x_transformed_2, y_train)"
   ]
  },
  {
   "cell_type": "code",
   "execution_count": 78,
   "id": "6ff11d07",
   "metadata": {
    "execution": {
     "iopub.execute_input": "2023-08-13T17:44:39.481865Z",
     "iopub.status.busy": "2023-08-13T17:44:39.481448Z",
     "iopub.status.idle": "2023-08-13T17:44:39.485853Z",
     "shell.execute_reply": "2023-08-13T17:44:39.485047Z"
    },
    "papermill": {
     "duration": 0.056579,
     "end_time": "2023-08-13T17:44:39.488352",
     "exception": false,
     "start_time": "2023-08-13T17:44:39.431773",
     "status": "completed"
    },
    "tags": []
   },
   "outputs": [],
   "source": [
    "# checking for the best hyperparameters for prediction\n",
    "best_params = grid_search.best_params_"
   ]
  },
  {
   "cell_type": "code",
   "execution_count": 79,
   "id": "b6756481",
   "metadata": {
    "execution": {
     "iopub.execute_input": "2023-08-13T17:44:39.592878Z",
     "iopub.status.busy": "2023-08-13T17:44:39.591867Z",
     "iopub.status.idle": "2023-08-13T17:44:39.598155Z",
     "shell.execute_reply": "2023-08-13T17:44:39.597004Z"
    },
    "papermill": {
     "duration": 0.061426,
     "end_time": "2023-08-13T17:44:39.601118",
     "exception": false,
     "start_time": "2023-08-13T17:44:39.539692",
     "status": "completed"
    },
    "tags": []
   },
   "outputs": [],
   "source": [
    "# initialize new naive bayes model with the best hyperparameters chosen \n",
    "best_nb = MultinomialNB(**best_params)"
   ]
  },
  {
   "cell_type": "code",
   "execution_count": 80,
   "id": "6e625afc",
   "metadata": {
    "execution": {
     "iopub.execute_input": "2023-08-13T17:44:39.698576Z",
     "iopub.status.busy": "2023-08-13T17:44:39.698169Z",
     "iopub.status.idle": "2023-08-13T17:44:40.564120Z",
     "shell.execute_reply": "2023-08-13T17:44:40.563227Z"
    },
    "papermill": {
     "duration": 0.918729,
     "end_time": "2023-08-13T17:44:40.566801",
     "exception": false,
     "start_time": "2023-08-13T17:44:39.648072",
     "status": "completed"
    },
    "tags": []
   },
   "outputs": [
    {
     "data": {
      "text/html": [
       "<style>#sk-container-id-8 {color: black;background-color: white;}#sk-container-id-8 pre{padding: 0;}#sk-container-id-8 div.sk-toggleable {background-color: white;}#sk-container-id-8 label.sk-toggleable__label {cursor: pointer;display: block;width: 100%;margin-bottom: 0;padding: 0.3em;box-sizing: border-box;text-align: center;}#sk-container-id-8 label.sk-toggleable__label-arrow:before {content: \"▸\";float: left;margin-right: 0.25em;color: #696969;}#sk-container-id-8 label.sk-toggleable__label-arrow:hover:before {color: black;}#sk-container-id-8 div.sk-estimator:hover label.sk-toggleable__label-arrow:before {color: black;}#sk-container-id-8 div.sk-toggleable__content {max-height: 0;max-width: 0;overflow: hidden;text-align: left;background-color: #f0f8ff;}#sk-container-id-8 div.sk-toggleable__content pre {margin: 0.2em;color: black;border-radius: 0.25em;background-color: #f0f8ff;}#sk-container-id-8 input.sk-toggleable__control:checked~div.sk-toggleable__content {max-height: 200px;max-width: 100%;overflow: auto;}#sk-container-id-8 input.sk-toggleable__control:checked~label.sk-toggleable__label-arrow:before {content: \"▾\";}#sk-container-id-8 div.sk-estimator input.sk-toggleable__control:checked~label.sk-toggleable__label {background-color: #d4ebff;}#sk-container-id-8 div.sk-label input.sk-toggleable__control:checked~label.sk-toggleable__label {background-color: #d4ebff;}#sk-container-id-8 input.sk-hidden--visually {border: 0;clip: rect(1px 1px 1px 1px);clip: rect(1px, 1px, 1px, 1px);height: 1px;margin: -1px;overflow: hidden;padding: 0;position: absolute;width: 1px;}#sk-container-id-8 div.sk-estimator {font-family: monospace;background-color: #f0f8ff;border: 1px dotted black;border-radius: 0.25em;box-sizing: border-box;margin-bottom: 0.5em;}#sk-container-id-8 div.sk-estimator:hover {background-color: #d4ebff;}#sk-container-id-8 div.sk-parallel-item::after {content: \"\";width: 100%;border-bottom: 1px solid gray;flex-grow: 1;}#sk-container-id-8 div.sk-label:hover label.sk-toggleable__label {background-color: #d4ebff;}#sk-container-id-8 div.sk-serial::before {content: \"\";position: absolute;border-left: 1px solid gray;box-sizing: border-box;top: 0;bottom: 0;left: 50%;z-index: 0;}#sk-container-id-8 div.sk-serial {display: flex;flex-direction: column;align-items: center;background-color: white;padding-right: 0.2em;padding-left: 0.2em;position: relative;}#sk-container-id-8 div.sk-item {position: relative;z-index: 1;}#sk-container-id-8 div.sk-parallel {display: flex;align-items: stretch;justify-content: center;background-color: white;position: relative;}#sk-container-id-8 div.sk-item::before, #sk-container-id-8 div.sk-parallel-item::before {content: \"\";position: absolute;border-left: 1px solid gray;box-sizing: border-box;top: 0;bottom: 0;left: 50%;z-index: -1;}#sk-container-id-8 div.sk-parallel-item {display: flex;flex-direction: column;z-index: 1;position: relative;background-color: white;}#sk-container-id-8 div.sk-parallel-item:first-child::after {align-self: flex-end;width: 50%;}#sk-container-id-8 div.sk-parallel-item:last-child::after {align-self: flex-start;width: 50%;}#sk-container-id-8 div.sk-parallel-item:only-child::after {width: 0;}#sk-container-id-8 div.sk-dashed-wrapped {border: 1px dashed gray;margin: 0 0.4em 0.5em 0.4em;box-sizing: border-box;padding-bottom: 0.4em;background-color: white;}#sk-container-id-8 div.sk-label label {font-family: monospace;font-weight: bold;display: inline-block;line-height: 1.2em;}#sk-container-id-8 div.sk-label-container {text-align: center;}#sk-container-id-8 div.sk-container {/* jupyter's `normalize.less` sets `[hidden] { display: none; }` but bootstrap.min.css set `[hidden] { display: none !important; }` so we also need the `!important` here to be able to override the default hidden behavior on the sphinx rendered scikit-learn.org. See: https://github.com/scikit-learn/scikit-learn/issues/21755 */display: inline-block !important;position: relative;}#sk-container-id-8 div.sk-text-repr-fallback {display: none;}</style><div id=\"sk-container-id-8\" class=\"sk-top-container\"><div class=\"sk-text-repr-fallback\"><pre>MultinomialNB(alpha=1, fit_prior=False)</pre><b>In a Jupyter environment, please rerun this cell to show the HTML representation or trust the notebook. <br />On GitHub, the HTML representation is unable to render, please try loading this page with nbviewer.org.</b></div><div class=\"sk-container\" hidden><div class=\"sk-item\"><div class=\"sk-estimator sk-toggleable\"><input class=\"sk-toggleable__control sk-hidden--visually\" id=\"sk-estimator-id-16\" type=\"checkbox\" checked><label for=\"sk-estimator-id-16\" class=\"sk-toggleable__label sk-toggleable__label-arrow\">MultinomialNB</label><div class=\"sk-toggleable__content\"><pre>MultinomialNB(alpha=1, fit_prior=False)</pre></div></div></div></div></div>"
      ],
      "text/plain": [
       "MultinomialNB(alpha=1, fit_prior=False)"
      ]
     },
     "execution_count": 80,
     "metadata": {},
     "output_type": "execute_result"
    }
   ],
   "source": [
    "# fitting the chosen hyperparameters on training data\n",
    "best_nb.fit(x_transformed_2, y_train)"
   ]
  },
  {
   "cell_type": "code",
   "execution_count": 81,
   "id": "b5a1d895",
   "metadata": {
    "execution": {
     "iopub.execute_input": "2023-08-13T17:44:40.670554Z",
     "iopub.status.busy": "2023-08-13T17:44:40.670085Z",
     "iopub.status.idle": "2023-08-13T17:44:40.686119Z",
     "shell.execute_reply": "2023-08-13T17:44:40.684827Z"
    },
    "papermill": {
     "duration": 0.070584,
     "end_time": "2023-08-13T17:44:40.689044",
     "exception": false,
     "start_time": "2023-08-13T17:44:40.618460",
     "status": "completed"
    },
    "tags": []
   },
   "outputs": [],
   "source": [
    "# Make predictions on the test set\n",
    "y_pred = best_nb.predict(X_val_2)"
   ]
  },
  {
   "cell_type": "code",
   "execution_count": 82,
   "id": "95aec828",
   "metadata": {
    "execution": {
     "iopub.execute_input": "2023-08-13T17:44:40.788702Z",
     "iopub.status.busy": "2023-08-13T17:44:40.788287Z",
     "iopub.status.idle": "2023-08-13T17:44:40.988274Z",
     "shell.execute_reply": "2023-08-13T17:44:40.986562Z"
    },
    "papermill": {
     "duration": 0.252588,
     "end_time": "2023-08-13T17:44:40.991106",
     "exception": false,
     "start_time": "2023-08-13T17:44:40.738518",
     "status": "completed"
    },
    "tags": []
   },
   "outputs": [
    {
     "name": "stdout",
     "output_type": "stream",
     "text": [
      "Accuracy score of MULTINOMIAL NAIVE BAYES model :  0.7811010076185795\n"
     ]
    }
   ],
   "source": [
    "print(\"Accuracy score of MULTINOMIAL NAIVE BAYES model : \",accuracy_score(y_val, y_pred))"
   ]
  },
  {
   "cell_type": "code",
   "execution_count": 83,
   "id": "8b7cc0f5",
   "metadata": {
    "execution": {
     "iopub.execute_input": "2023-08-13T17:44:41.090614Z",
     "iopub.status.busy": "2023-08-13T17:44:41.089654Z",
     "iopub.status.idle": "2023-08-13T17:44:41.729757Z",
     "shell.execute_reply": "2023-08-13T17:44:41.728394Z"
    },
    "papermill": {
     "duration": 0.694656,
     "end_time": "2023-08-13T17:44:41.732537",
     "exception": false,
     "start_time": "2023-08-13T17:44:41.037881",
     "status": "completed"
    },
    "tags": []
   },
   "outputs": [
    {
     "name": "stdout",
     "output_type": "stream",
     "text": [
      "f1 score of MULTINOMIAL NAIVE BAYES model :  0.8385915952376638\n"
     ]
    }
   ],
   "source": [
    "print(\"f1 score of MULTINOMIAL NAIVE BAYES model : \",f1_score(y_val, y_pred, pos_label='POSITIVE'))"
   ]
  },
  {
   "cell_type": "code",
   "execution_count": 84,
   "id": "742ef7bd",
   "metadata": {
    "execution": {
     "iopub.execute_input": "2023-08-13T17:44:41.833779Z",
     "iopub.status.busy": "2023-08-13T17:44:41.833400Z",
     "iopub.status.idle": "2023-08-13T17:44:44.652979Z",
     "shell.execute_reply": "2023-08-13T17:44:44.651493Z"
    },
    "papermill": {
     "duration": 2.872229,
     "end_time": "2023-08-13T17:44:44.656061",
     "exception": false,
     "start_time": "2023-08-13T17:44:41.783832",
     "status": "completed"
    },
    "tags": []
   },
   "outputs": [
    {
     "name": "stdout",
     "output_type": "stream",
     "text": [
      "Classifcation report of MULTINOMAIL NAIVE BAYES model : \n",
      "              precision    recall  f1-score   support\n",
      "\n",
      "    NEGATIVE       0.68      0.64      0.66     13430\n",
      "    POSITIVE       0.83      0.85      0.84     27260\n",
      "\n",
      "    accuracy                           0.78     40690\n",
      "   macro avg       0.75      0.75      0.75     40690\n",
      "weighted avg       0.78      0.78      0.78     40690\n",
      "\n"
     ]
    }
   ],
   "source": [
    "print(\"Classifcation report of MULTINOMAIL NAIVE BAYES model : \")\n",
    "print(classification_report(y_val, y_pred))"
   ]
  },
  {
   "cell_type": "markdown",
   "id": "46e767c7",
   "metadata": {
    "papermill": {
     "duration": 0.048156,
     "end_time": "2023-08-13T17:44:44.751929",
     "exception": false,
     "start_time": "2023-08-13T17:44:44.703773",
     "status": "completed"
    },
    "tags": []
   },
   "source": [
    "# LINEAR SVC is giving the best accuracy score for seen data. Predicting the unseen data on that model only"
   ]
  },
  {
   "cell_type": "code",
   "execution_count": 85,
   "id": "48711363",
   "metadata": {
    "execution": {
     "iopub.execute_input": "2023-08-13T17:44:44.846442Z",
     "iopub.status.busy": "2023-08-13T17:44:44.845870Z",
     "iopub.status.idle": "2023-08-13T17:44:44.857175Z",
     "shell.execute_reply": "2023-08-13T17:44:44.855930Z"
    },
    "papermill": {
     "duration": 0.061734,
     "end_time": "2023-08-13T17:44:44.859886",
     "exception": false,
     "start_time": "2023-08-13T17:44:44.798152",
     "status": "completed"
    },
    "tags": []
   },
   "outputs": [],
   "source": [
    "# predicting the test data on the best svc model calculated\n",
    "y_pred_test = best_svc.predict(X_test)"
   ]
  },
  {
   "cell_type": "code",
   "execution_count": 86,
   "id": "a1b9b3c6",
   "metadata": {
    "execution": {
     "iopub.execute_input": "2023-08-13T17:44:44.956628Z",
     "iopub.status.busy": "2023-08-13T17:44:44.956046Z",
     "iopub.status.idle": "2023-08-13T17:44:44.961992Z",
     "shell.execute_reply": "2023-08-13T17:44:44.960826Z"
    },
    "papermill": {
     "duration": 0.057391,
     "end_time": "2023-08-13T17:44:44.964909",
     "exception": false,
     "start_time": "2023-08-13T17:44:44.907518",
     "status": "completed"
    },
    "tags": []
   },
   "outputs": [],
   "source": [
    "# creating new dataframe\n",
    "pred_df = pd.DataFrame(y_pred_test)"
   ]
  },
  {
   "cell_type": "code",
   "execution_count": 87,
   "id": "5dfbc74b",
   "metadata": {
    "execution": {
     "iopub.execute_input": "2023-08-13T17:44:45.062561Z",
     "iopub.status.busy": "2023-08-13T17:44:45.062091Z",
     "iopub.status.idle": "2023-08-13T17:44:45.241073Z",
     "shell.execute_reply": "2023-08-13T17:44:45.239710Z"
    },
    "papermill": {
     "duration": 0.233028,
     "end_time": "2023-08-13T17:44:45.244737",
     "exception": false,
     "start_time": "2023-08-13T17:44:45.011709",
     "status": "completed"
    },
    "tags": []
   },
   "outputs": [],
   "source": [
    "# dataframe contains only a single column as a feature\n",
    "pred_df.columns = [\"sentiment\"]\n",
    "pred_df.index.name = \"id\"\n",
    "\n",
    "# SUBMISSION FILE\n",
    "pred_df.to_csv(\"submission.csv\")"
   ]
  },
  {
   "cell_type": "code",
   "execution_count": null,
   "id": "687602f5",
   "metadata": {
    "papermill": {
     "duration": 0.048213,
     "end_time": "2023-08-13T17:44:45.342743",
     "exception": false,
     "start_time": "2023-08-13T17:44:45.294530",
     "status": "completed"
    },
    "tags": []
   },
   "outputs": [],
   "source": []
  },
  {
   "cell_type": "code",
   "execution_count": null,
   "id": "76feafef",
   "metadata": {
    "papermill": {
     "duration": 0.04606,
     "end_time": "2023-08-13T17:44:45.439205",
     "exception": false,
     "start_time": "2023-08-13T17:44:45.393145",
     "status": "completed"
    },
    "tags": []
   },
   "outputs": [],
   "source": []
  },
  {
   "cell_type": "code",
   "execution_count": null,
   "id": "8a4762b9",
   "metadata": {
    "papermill": {
     "duration": 0.048293,
     "end_time": "2023-08-13T17:44:45.533709",
     "exception": false,
     "start_time": "2023-08-13T17:44:45.485416",
     "status": "completed"
    },
    "tags": []
   },
   "outputs": [],
   "source": []
  }
 ],
 "metadata": {
  "kernelspec": {
   "display_name": "Python 3",
   "language": "python",
   "name": "python3"
  },
  "language_info": {
   "codemirror_mode": {
    "name": "ipython",
    "version": 3
   },
   "file_extension": ".py",
   "mimetype": "text/x-python",
   "name": "python",
   "nbconvert_exporter": "python",
   "pygments_lexer": "ipython3",
   "version": "3.10.10"
  },
  "papermill": {
   "default_parameters": {},
   "duration": 576.83404,
   "end_time": "2023-08-13T17:44:48.208869",
   "environment_variables": {},
   "exception": null,
   "input_path": "__notebook__.ipynb",
   "output_path": "__notebook__.ipynb",
   "parameters": {},
   "start_time": "2023-08-13T17:35:11.374829",
   "version": "2.4.0"
  }
 },
 "nbformat": 4,
 "nbformat_minor": 5
}
